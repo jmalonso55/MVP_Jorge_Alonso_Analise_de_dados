{
  "nbformat": 4,
  "nbformat_minor": 0,
  "metadata": {
    "colab": {
      "provenance": [],
      "authorship_tag": "ABX9TyPu2wykCWcaYU2b4qBwsmDx",
      "include_colab_link": true
    },
    "kernelspec": {
      "name": "python3",
      "display_name": "Python 3"
    },
    "language_info": {
      "name": "python"
    }
  },
  "cells": [
    {
      "cell_type": "markdown",
      "metadata": {
        "id": "view-in-github",
        "colab_type": "text"
      },
      "source": [
        "<a href=\"https://colab.research.google.com/github/jmalonso55/MVP_Jorge_Alonso_Analise_de_dados/blob/main/An%C3%A1lise_dos_dados_do_invent%C3%A1rio_florestal_do_Esp%C3%ADrito_Santo.ipynb\" target=\"_parent\"><img src=\"https://colab.research.google.com/assets/colab-badge.svg\" alt=\"Open In Colab\"/></a>"
      ]
    },
    {
      "cell_type": "markdown",
      "source": [
        "**DEFINIÇÃO DO PROBLEMA:**\n",
        "\n",
        "A base de dados utilizada foi a do Inventário Florestal Nacional (IFN) para o estado do Espírito Santo (ES), disponibilizada publicamente no site do Serviço Florestal Brasileiro (SFB / MAPA). Como não há dados disponíveis para o estado do Rio de Janeiro, os dados do ES foram escolhidos como referência por ser vizinho ao RJ e apresentar fitofisionomias semelhantes (link de acesso: https://snif.florestal.gov.br/pt-br/inventario-florestal-nacional-ifn/ifn-dados-abertos/ifn-resultados-espirito-santo).\n",
        "\n",
        "O IFN é um levantamento feito pelo governo federal com a finalidade de produzir informações sobre os recursos florestais brasileiros, tendo cunho estratégico. Por outro lado, inventários florestais podem ser realizados com cunho tático para atender a demandas de empresas tais como conhecer a dinâmica de uma floresta e elaborar planos para seu manejo e exploração. Uma das demandas de empresas por inventários é para a obtenção de uma Autorização de Supressão Vegetal (ASV), visto que um dos documentos exigidos para a ASV é o inventário florestal e florístico da vegetação a ser suprimida. Esse é um procedimento muito comum na construção civil de empreendimentos imobiliários, industriais e outros. \n",
        "\n",
        "Diversas variáveis qualitativas e quantitativas podem ser mensuradas em um inventário florestal. Em geral, quanto mais variáveis forem mensuradas maior é o tempo gasto e maiores serão os custos para sua realização. Portanto, é do interesse das empresas a mensuração do menor número possível de variáveis que possam fornecer as informações necessárias para atender à sua demanda. \n",
        "\n",
        "O diâmetro à altura do peito (DAP) e a altura total são as principais variáveis quantitativas mensuradas em inventários florestais. Enquanto o DAP pode ser mensurado por meio de fita métrica, suta diâmetrica ou outros instrumentos de fácil operação, mensurar a altura é um procedimento mais complicado. Por exemplo, quando se utiliza vara graduada é muito difícil carregar a ferramenta em uma floresta fechada. Mesmo no caso de uma vara retrátil a operação é difícil e demorada devido a necessidade de abrir e fechar o equipamento na mata, além da dificuldade de visualizar o topo das árvores. Por isso, o procedimento mais comum é estimar a altura com hipsômetros que são aparelhos que utilizam princípios geométricos ou trigonométricos para obter a medida. Ainda assim, persistem as dificuldades como a de se visualizar o topo das árvores e a de encontrar uma distância horizontal conveniente para medição em uma floresta fechada.\n",
        "\n",
        "Visando atender à necessidade de empresas que realizam inventários florestais e florísticos para obtenção de ASV nos estados do Sudeste, o objetivo deste trabalho é conduzir uma análise exploratória dos dados do IFN no ES para identificar o potencial de se estimar a altura de árvores a partir de outras variáveis mais fáceis de mensurar.\n",
        "\n",
        "Este seria um problema de aprendizado supervisionado da categoria regressão. Algumas hipóteses seriam:\n",
        "1) Existe correlação significativa entre o DAP e a altura total;\n",
        "2) Existe relação da altura total com variáveis qualitativas fáceis de mensurar;\n",
        "3) A altura do fuste (variável mais fácil de medir) possui correlação com a altura total;\n",
        "4) É viável utilizar outras variáveis mais fáceis de medir para estimar a altura total.\n",
        "\n",
        "Quanto às restrições, o foco do projeto serão as áreas definidas pelo IFN como \"floresta típica secundária jovem\". Já que os inventários florestais e florísticos para supressão normalmente tem como objeto uma floresta natural em estágio secundário, ou seja, com certo nível de distúbio causado por atividade humana. Além disso, serão considerados apenas os dados coletados para árvores adultas (DAP > 10 cm), considerando que elas são as mais difíceis de mensurar an altura total nas florestas naturais. Admiti-se a possibilidade de identificar outras restrições a partir da análise exploratória dos dados. Por fim, serão considerados apenas os dados de subunidades amostrais localizadas 100% em área de vegetação florestal, visando eliminar a influência de efeito de borda.\n",
        "\n",
        "O primeiro dataset que será carregado apresenta as seguintes variáveis: 1) UA - Unidade amostral; 2) SU - Subunidade; 3) SUBP - Subparcela; 4) COD_ARV - nº sequencial do indivíduo medido em cada Subunidade; 5) FUSTE - nº do fuste; 6) DAP - diâmetro à altura do peito (1,30 m), em centímetros; 7) SA - estado de sanidade do fuste; 8) QF - qualidade do fuste; 9) PS - posição sociológica; 10) AFF - árvore fora da floresta; 11) HT - altura total, em metros; 12) HF - altura do fuste, em metros; 13) PL - presença ou ausência de lianas; 14) HAB - hábito da planta; 15) MB - indivíduo com ou sem coleta botânica (link de acesso aos metadados: https://snif.florestal.gov.br/images/pdf/recursos_florestais/IFN/IFN-ES/Metadados_IFN-ES_Arvores_dap_maior_igual_10_18-11-2020.pdf)."
      ],
      "metadata": {
        "id": "h8A3OWkSV7_R"
      }
    },
    {
      "cell_type": "code",
      "source": [
        "# Carrega as bibliotecas utilizadas\n",
        "import pandas as pd\n",
        "import matplotlib.pyplot as plt\n",
        "import statistics\n",
        "from scipy.stats import shapiro\n",
        "import seaborn as sns\n",
        "import numpy as np\n",
        "from sklearn.model_selection import train_test_split\n",
        "from sklearn.preprocessing import MinMaxScaler"
      ],
      "metadata": {
        "id": "VUOtdMpU8M3T"
      },
      "execution_count": 39,
      "outputs": []
    },
    {
      "cell_type": "code",
      "source": [
        "# Importa os dados de medição no ES do repositório no GitHub\n",
        "url_dados = 'https://raw.githubusercontent.com/jmalonso55/MVP_Jorge_Alonso_Analise_de_dados/main/IFN-ES_arvores_dap_maior_10cm_18-11-2020.csv'\n",
        "\n",
        "# Carrega o dataset por meio da url\n",
        "inv_es = pd.read_csv(url_dados, sep=\";\", decimal=\",\")"
      ],
      "metadata": {
        "id": "WbNam__PgFfy"
      },
      "execution_count": 4,
      "outputs": []
    },
    {
      "cell_type": "code",
      "source": [
        "# Verifica se os dados estão no formato dataframe\n",
        "type(inv_es)"
      ],
      "metadata": {
        "id": "y86BT3mM8z1X"
      },
      "execution_count": null,
      "outputs": []
    },
    {
      "cell_type": "code",
      "source": [
        "# Verifica quantas instâncias e atributos existem no dataset\n",
        "inv_es.shape"
      ],
      "metadata": {
        "id": "Huv5QVBI9_7z"
      },
      "execution_count": null,
      "outputs": []
    },
    {
      "cell_type": "markdown",
      "source": [
        "O dataset apresenta 8.522 instâncias (nº de indivíduos arbóreos observados) e 15 atributos (as variáveis mensuradas e que tiveram suas siglas descritas anteriormente). Cabe mencionar que não há entre as variáveis uma que indique a fitofisionomia predominante em cada parcela. Para obter essa informação e filtrar os dados será preciso recorrer a outro dataset. "
      ],
      "metadata": {
        "id": "3DZtS0o--Yo9"
      }
    },
    {
      "cell_type": "code",
      "source": [
        "# Verifica os tipos de dados dos atributos\n",
        "inv_es.dtypes"
      ],
      "metadata": {
        "id": "pRD7Tjiy_Q0w"
      },
      "execution_count": null,
      "outputs": []
    },
    {
      "cell_type": "markdown",
      "source": [
        "Neste ponto é oportuno observar que algumas destas variáveis foram tabuladas como números inteiros (quantitativa discreta), mas na verdade são variáveis qualitativas. Por exemplo, a variável sanidade do fuste (SA), detalhada na sequência."
      ],
      "metadata": {
        "id": "zdwuNK8j_kU6"
      }
    },
    {
      "cell_type": "code",
      "source": [
        "# Inspeciona os valores assumidos pela variável SA\n",
        "inv_es['SA'].unique()"
      ],
      "metadata": {
        "id": "OKinDdJfAS_J"
      },
      "execution_count": null,
      "outputs": []
    },
    {
      "cell_type": "markdown",
      "source": [
        "A varíavel assume valores de 1 a 4, que segundo os metadados do levantamento correspondem a: 1 – Sadio, sem defeitos aparentes; 2 –Estágio inicial de deterioração por pragas ou doenças; 3 –Estágio avançado de deterioração por pragas ou doenças; 4 –Árvore morta em pé. Os níveis desta variável podem ser interpretados como dados qualitativos ordinais, como descrito acima, ou quantitativos discretos medindo o grau de sanidade do fuste, considerando que quanto maior o valor, mais deteriorado está o fuste.\n"
      ],
      "metadata": {
        "id": "oUUAa6qBAvXL"
      }
    },
    {
      "cell_type": "code",
      "source": [
        "# Inspeciona as seis primeiras linhas do dataset\n",
        "inv_es.head(10)"
      ],
      "metadata": {
        "id": "ZdI9KERD9XsT"
      },
      "execution_count": null,
      "outputs": []
    },
    {
      "cell_type": "markdown",
      "source": [
        "O dataset parece ter sido carregado corretamente. É possível reparar a existência de NaNs e 0 (zero) em algumas colunas. Algumas destas variáveis não são de interesse para a análise que se pretende fazer, mas convém analisar com mais detalhe a existência de dados faltantes e inconsistentes."
      ],
      "metadata": {
        "id": "qFbxIf_IEJyx"
      }
    },
    {
      "cell_type": "code",
      "source": [
        "# Verificando a presença de nulls no dataset\n",
        "inv_es.isnull().sum()"
      ],
      "metadata": {
        "id": "rLpWS0hGEnLN"
      },
      "execution_count": null,
      "outputs": []
    },
    {
      "cell_type": "markdown",
      "source": [
        "A única variável em que apresenta \"nulls\" é a HAB (hábito da planta), que não é de interesse, visto que apenas árvores serão avaliadas. Mais adiante, pode-se retirar essa variável do dataset que será trabalhado (*feature selection*)."
      ],
      "metadata": {
        "id": "SOfwNQhpGB2t"
      }
    },
    {
      "cell_type": "code",
      "source": [
        "# Verificando a presença de zeros no dataset\n",
        "(inv_es == 0).sum()"
      ],
      "metadata": {
        "id": "1mknUGpiGBFt"
      },
      "execution_count": null,
      "outputs": []
    },
    {
      "cell_type": "markdown",
      "source": [
        "Verifica-se um número considerável de zeros em algumas variáveis. Em 3 dos 4 casos, são variáveis com respostas binárias (0 = não e 1 = sim). Para altura do fuste (HF) zero é um valor possível, significando uma bifurcação no nível do solo (talvez um valor discrepante, mas não inválido)."
      ],
      "metadata": {
        "id": "DSLpqtv1HsCa"
      }
    },
    {
      "cell_type": "code",
      "source": [
        "# Gerando um resumo geral para algumas variáveis de interesse\n",
        "inv_es[[\"DAP\", \"HT\", \"HF\"]].describe()"
      ],
      "metadata": {
        "id": "X3I1ymlNIkyj"
      },
      "execution_count": null,
      "outputs": []
    },
    {
      "cell_type": "markdown",
      "source": [
        "Observa-se uma variação alta dos dados. Neste levantamento foram coletados dados em diferentes tipos de vegetação, como florestas plantadas, naturais, áreas agrícolas etc. Convém filtrar o dataset para a fitofisionomia que se deseja avaliar (floresta secundária jovem) e conferir novamente os valores dessas medidas."
      ],
      "metadata": {
        "id": "wZ3Y674GI7GU"
      }
    },
    {
      "cell_type": "code",
      "source": [
        "# Importando os dados de uso da terra no US do repositório do GitHub\n",
        "url_dados_ut = 'https://raw.githubusercontent.com/jmalonso55/MVP_Jorge_Alonso_Analise_de_dados/main/IFN-ES_uso_da_terra_subparcelas_18-11-2020.csv'\n",
        "\n",
        "# Carrega o dataset por meio da URL\n",
        "inv_es_ut = pd.read_csv(url_dados_ut, sep=\";\", decimal=\",\")"
      ],
      "metadata": {
        "id": "UfATpek8J6OT"
      },
      "execution_count": 5,
      "outputs": []
    },
    {
      "cell_type": "code",
      "source": [
        "# Verifica se os dados estão no formato dataframe\n",
        "type(inv_es_ut)"
      ],
      "metadata": {
        "id": "s_t21ChxK32O"
      },
      "execution_count": null,
      "outputs": []
    },
    {
      "cell_type": "code",
      "source": [
        "# Verifica quantas instâncias e atributos existem no dataset\n",
        "inv_es_ut.shape"
      ],
      "metadata": {
        "id": "UuOXCngfK_3a"
      },
      "execution_count": null,
      "outputs": []
    },
    {
      "cell_type": "markdown",
      "source": [
        "Há um número menor de instâncias e um número maior de atributos neste dataset. Aqui há uma instância (linha) para cada subunidade dentro de cada unidade amostral mensurada. Segundo os metadados do levantamento, os atributos são o seguinte: 1) UA - Unidade amostral; SU - subunidade, de 1 a 4; 3 a 12) SUBP1, SUBP2, ..., SUBP10 - classe de uso da terra em cada uma das 10 Subparcelas de cada subunidade; 13) CONT_TOCO: quantidade de todos encontrados; 14) FLORESTA: porcentagem da área da subunidade coberta por “floresta”; 15) ARVORES: porcentagem da área da subunidade coberta por “outras terras com árvores”; 16) NATURAL: porcentagem da área da subunidade coberta por “outras terras com vegetação natural”; 17) AGRICULTURA: porcentagem da área da unidade amostral coberta por “agricultura”; 18) OUTRAS: porcentagem da área da unidade amostral coberta por “outras áreas”.\n",
        "Link de acesso aos metadados: https://snif.florestal.gov.br/images/pdf/recursos_florestais/IFN/IFN-ES/Metadados_IFN-ES_Uso_da_terra_18-11-2020.pdf"
      ],
      "metadata": {
        "id": "C0I1uKAWLKf6"
      }
    },
    {
      "cell_type": "code",
      "source": [
        "# Verifica se os dados estão em formato dataframe\n",
        "type(inv_es_ut)"
      ],
      "metadata": {
        "id": "FqjZM5kjNupH"
      },
      "execution_count": null,
      "outputs": []
    },
    {
      "cell_type": "code",
      "source": [
        "# Verifica as primeiras linhas do dataset\n",
        "inv_es_ut.head(10)"
      ],
      "metadata": {
        "id": "14ayo2mNN5QL"
      },
      "execution_count": null,
      "outputs": []
    },
    {
      "cell_type": "code",
      "source": [
        "# Verificando a presença de nulls no dataset\n",
        "inv_es_ut.isnull().sum()"
      ],
      "metadata": {
        "id": "eCwcCCGQOSJU"
      },
      "execution_count": null,
      "outputs": []
    },
    {
      "cell_type": "markdown",
      "source": [
        "Verifica-se que o dataset aparenta ter sido corretamente carregado e que não há presença de nulls. Neste dataset, a presença de zeros não é um problema para o filtro que se deseja aplicar."
      ],
      "metadata": {
        "id": "oXaW3bD2OYfa"
      }
    },
    {
      "cell_type": "code",
      "source": [
        "# Filtrando dados para obter as parcelas com 100% das subparcelas em floresta secundária jovem\n",
        "flo_sec = inv_es_ut[(inv_es_ut['FLORESTA'] == '1.0') & (inv_es_ut['SUBP1'] == 113) & (inv_es_ut['SUBP2'] == 113) &\n",
        "                    (inv_es_ut['SUBP3'] == 113) & (inv_es_ut['SUBP4'] == 113) & (inv_es_ut['SUBP5'] == 113) &\n",
        "                    (inv_es_ut['SUBP6'] == 113) & (inv_es_ut['SUBP7'] == 113) & (inv_es_ut['SUBP8'] == 113) &\n",
        "                    (inv_es_ut['SUBP9'] == 113) & (inv_es_ut['SUBP10'] == 113)]\n",
        "flo_sec.head(10)"
      ],
      "metadata": {
        "id": "lXDTs0oIOtV3",
        "colab": {
          "base_uri": "https://localhost:8080/",
          "height": 363
        },
        "outputId": "f44dec8b-cd83-4a4d-a22f-7545e85c36eb"
      },
      "execution_count": 6,
      "outputs": [
        {
          "output_type": "execute_result",
          "data": {
            "text/plain": [
              "         UA  SU  SUBP1  SUBP2  SUBP3  SUBP4  SUBP5  SUBP6  SUBP7  SUBP8  \\\n",
              "11   ES_101   4    113    113    113    113    113    113    113    113   \n",
              "12   ES_102   1    113    113    113    113    113    113    113    113   \n",
              "13   ES_102   2    113    113    113    113    113    113    113    113   \n",
              "14   ES_102   3    113    113    113    113    113    113    113    113   \n",
              "15   ES_102   4    113    113    113    113    113    113    113    113   \n",
              "25   ES_105   2    113    113    113    113    113    113    113    113   \n",
              "37   ES_108   2    113    113    113    113    113    113    113    113   \n",
              "41   ES_109   2    113    113    113    113    113    113    113    113   \n",
              "116   ES_18   3    113    113    113    113    113    113    113    113   \n",
              "146   ES_28   1    113    113    113    113    113    113    113    113   \n",
              "\n",
              "     SUBP9  SUBP10  CONT_TOCO FLORESTA ARVORES NATURAL AGRICULTURA OUTRAS  \n",
              "11     113     113          0      1.0     0.0     0.0         0.0    0.0  \n",
              "12     113     113          0      1.0     0.0     0.0         0.0    0.0  \n",
              "13     113     113          0      1.0     0.0     0.0         0.0    0.0  \n",
              "14     113     113          0      1.0     0.0     0.0         0.0    0.0  \n",
              "15     113     113          0      1.0     0.0     0.0         0.0    0.0  \n",
              "25     113     113          0      1.0     0.0     0.0         0.0    0.0  \n",
              "37     113     113          0      1.0     0.0     0.0         0.0    0.0  \n",
              "41     113     113          0      1.0     0.0     0.0         0.0    0.0  \n",
              "116    113     113          0      1.0     0.0     0.0         0.0    0.0  \n",
              "146    113     113          0      1.0     0.0     0.0         0.0    0.0  "
            ],
            "text/html": [
              "\n",
              "  <div id=\"df-42f542da-76af-4633-8210-f7099232126a\">\n",
              "    <div class=\"colab-df-container\">\n",
              "      <div>\n",
              "<style scoped>\n",
              "    .dataframe tbody tr th:only-of-type {\n",
              "        vertical-align: middle;\n",
              "    }\n",
              "\n",
              "    .dataframe tbody tr th {\n",
              "        vertical-align: top;\n",
              "    }\n",
              "\n",
              "    .dataframe thead th {\n",
              "        text-align: right;\n",
              "    }\n",
              "</style>\n",
              "<table border=\"1\" class=\"dataframe\">\n",
              "  <thead>\n",
              "    <tr style=\"text-align: right;\">\n",
              "      <th></th>\n",
              "      <th>UA</th>\n",
              "      <th>SU</th>\n",
              "      <th>SUBP1</th>\n",
              "      <th>SUBP2</th>\n",
              "      <th>SUBP3</th>\n",
              "      <th>SUBP4</th>\n",
              "      <th>SUBP5</th>\n",
              "      <th>SUBP6</th>\n",
              "      <th>SUBP7</th>\n",
              "      <th>SUBP8</th>\n",
              "      <th>SUBP9</th>\n",
              "      <th>SUBP10</th>\n",
              "      <th>CONT_TOCO</th>\n",
              "      <th>FLORESTA</th>\n",
              "      <th>ARVORES</th>\n",
              "      <th>NATURAL</th>\n",
              "      <th>AGRICULTURA</th>\n",
              "      <th>OUTRAS</th>\n",
              "    </tr>\n",
              "  </thead>\n",
              "  <tbody>\n",
              "    <tr>\n",
              "      <th>11</th>\n",
              "      <td>ES_101</td>\n",
              "      <td>4</td>\n",
              "      <td>113</td>\n",
              "      <td>113</td>\n",
              "      <td>113</td>\n",
              "      <td>113</td>\n",
              "      <td>113</td>\n",
              "      <td>113</td>\n",
              "      <td>113</td>\n",
              "      <td>113</td>\n",
              "      <td>113</td>\n",
              "      <td>113</td>\n",
              "      <td>0</td>\n",
              "      <td>1.0</td>\n",
              "      <td>0.0</td>\n",
              "      <td>0.0</td>\n",
              "      <td>0.0</td>\n",
              "      <td>0.0</td>\n",
              "    </tr>\n",
              "    <tr>\n",
              "      <th>12</th>\n",
              "      <td>ES_102</td>\n",
              "      <td>1</td>\n",
              "      <td>113</td>\n",
              "      <td>113</td>\n",
              "      <td>113</td>\n",
              "      <td>113</td>\n",
              "      <td>113</td>\n",
              "      <td>113</td>\n",
              "      <td>113</td>\n",
              "      <td>113</td>\n",
              "      <td>113</td>\n",
              "      <td>113</td>\n",
              "      <td>0</td>\n",
              "      <td>1.0</td>\n",
              "      <td>0.0</td>\n",
              "      <td>0.0</td>\n",
              "      <td>0.0</td>\n",
              "      <td>0.0</td>\n",
              "    </tr>\n",
              "    <tr>\n",
              "      <th>13</th>\n",
              "      <td>ES_102</td>\n",
              "      <td>2</td>\n",
              "      <td>113</td>\n",
              "      <td>113</td>\n",
              "      <td>113</td>\n",
              "      <td>113</td>\n",
              "      <td>113</td>\n",
              "      <td>113</td>\n",
              "      <td>113</td>\n",
              "      <td>113</td>\n",
              "      <td>113</td>\n",
              "      <td>113</td>\n",
              "      <td>0</td>\n",
              "      <td>1.0</td>\n",
              "      <td>0.0</td>\n",
              "      <td>0.0</td>\n",
              "      <td>0.0</td>\n",
              "      <td>0.0</td>\n",
              "    </tr>\n",
              "    <tr>\n",
              "      <th>14</th>\n",
              "      <td>ES_102</td>\n",
              "      <td>3</td>\n",
              "      <td>113</td>\n",
              "      <td>113</td>\n",
              "      <td>113</td>\n",
              "      <td>113</td>\n",
              "      <td>113</td>\n",
              "      <td>113</td>\n",
              "      <td>113</td>\n",
              "      <td>113</td>\n",
              "      <td>113</td>\n",
              "      <td>113</td>\n",
              "      <td>0</td>\n",
              "      <td>1.0</td>\n",
              "      <td>0.0</td>\n",
              "      <td>0.0</td>\n",
              "      <td>0.0</td>\n",
              "      <td>0.0</td>\n",
              "    </tr>\n",
              "    <tr>\n",
              "      <th>15</th>\n",
              "      <td>ES_102</td>\n",
              "      <td>4</td>\n",
              "      <td>113</td>\n",
              "      <td>113</td>\n",
              "      <td>113</td>\n",
              "      <td>113</td>\n",
              "      <td>113</td>\n",
              "      <td>113</td>\n",
              "      <td>113</td>\n",
              "      <td>113</td>\n",
              "      <td>113</td>\n",
              "      <td>113</td>\n",
              "      <td>0</td>\n",
              "      <td>1.0</td>\n",
              "      <td>0.0</td>\n",
              "      <td>0.0</td>\n",
              "      <td>0.0</td>\n",
              "      <td>0.0</td>\n",
              "    </tr>\n",
              "    <tr>\n",
              "      <th>25</th>\n",
              "      <td>ES_105</td>\n",
              "      <td>2</td>\n",
              "      <td>113</td>\n",
              "      <td>113</td>\n",
              "      <td>113</td>\n",
              "      <td>113</td>\n",
              "      <td>113</td>\n",
              "      <td>113</td>\n",
              "      <td>113</td>\n",
              "      <td>113</td>\n",
              "      <td>113</td>\n",
              "      <td>113</td>\n",
              "      <td>0</td>\n",
              "      <td>1.0</td>\n",
              "      <td>0.0</td>\n",
              "      <td>0.0</td>\n",
              "      <td>0.0</td>\n",
              "      <td>0.0</td>\n",
              "    </tr>\n",
              "    <tr>\n",
              "      <th>37</th>\n",
              "      <td>ES_108</td>\n",
              "      <td>2</td>\n",
              "      <td>113</td>\n",
              "      <td>113</td>\n",
              "      <td>113</td>\n",
              "      <td>113</td>\n",
              "      <td>113</td>\n",
              "      <td>113</td>\n",
              "      <td>113</td>\n",
              "      <td>113</td>\n",
              "      <td>113</td>\n",
              "      <td>113</td>\n",
              "      <td>0</td>\n",
              "      <td>1.0</td>\n",
              "      <td>0.0</td>\n",
              "      <td>0.0</td>\n",
              "      <td>0.0</td>\n",
              "      <td>0.0</td>\n",
              "    </tr>\n",
              "    <tr>\n",
              "      <th>41</th>\n",
              "      <td>ES_109</td>\n",
              "      <td>2</td>\n",
              "      <td>113</td>\n",
              "      <td>113</td>\n",
              "      <td>113</td>\n",
              "      <td>113</td>\n",
              "      <td>113</td>\n",
              "      <td>113</td>\n",
              "      <td>113</td>\n",
              "      <td>113</td>\n",
              "      <td>113</td>\n",
              "      <td>113</td>\n",
              "      <td>0</td>\n",
              "      <td>1.0</td>\n",
              "      <td>0.0</td>\n",
              "      <td>0.0</td>\n",
              "      <td>0.0</td>\n",
              "      <td>0.0</td>\n",
              "    </tr>\n",
              "    <tr>\n",
              "      <th>116</th>\n",
              "      <td>ES_18</td>\n",
              "      <td>3</td>\n",
              "      <td>113</td>\n",
              "      <td>113</td>\n",
              "      <td>113</td>\n",
              "      <td>113</td>\n",
              "      <td>113</td>\n",
              "      <td>113</td>\n",
              "      <td>113</td>\n",
              "      <td>113</td>\n",
              "      <td>113</td>\n",
              "      <td>113</td>\n",
              "      <td>0</td>\n",
              "      <td>1.0</td>\n",
              "      <td>0.0</td>\n",
              "      <td>0.0</td>\n",
              "      <td>0.0</td>\n",
              "      <td>0.0</td>\n",
              "    </tr>\n",
              "    <tr>\n",
              "      <th>146</th>\n",
              "      <td>ES_28</td>\n",
              "      <td>1</td>\n",
              "      <td>113</td>\n",
              "      <td>113</td>\n",
              "      <td>113</td>\n",
              "      <td>113</td>\n",
              "      <td>113</td>\n",
              "      <td>113</td>\n",
              "      <td>113</td>\n",
              "      <td>113</td>\n",
              "      <td>113</td>\n",
              "      <td>113</td>\n",
              "      <td>0</td>\n",
              "      <td>1.0</td>\n",
              "      <td>0.0</td>\n",
              "      <td>0.0</td>\n",
              "      <td>0.0</td>\n",
              "      <td>0.0</td>\n",
              "    </tr>\n",
              "  </tbody>\n",
              "</table>\n",
              "</div>\n",
              "      <button class=\"colab-df-convert\" onclick=\"convertToInteractive('df-42f542da-76af-4633-8210-f7099232126a')\"\n",
              "              title=\"Convert this dataframe to an interactive table.\"\n",
              "              style=\"display:none;\">\n",
              "        \n",
              "  <svg xmlns=\"http://www.w3.org/2000/svg\" height=\"24px\"viewBox=\"0 0 24 24\"\n",
              "       width=\"24px\">\n",
              "    <path d=\"M0 0h24v24H0V0z\" fill=\"none\"/>\n",
              "    <path d=\"M18.56 5.44l.94 2.06.94-2.06 2.06-.94-2.06-.94-.94-2.06-.94 2.06-2.06.94zm-11 1L8.5 8.5l.94-2.06 2.06-.94-2.06-.94L8.5 2.5l-.94 2.06-2.06.94zm10 10l.94 2.06.94-2.06 2.06-.94-2.06-.94-.94-2.06-.94 2.06-2.06.94z\"/><path d=\"M17.41 7.96l-1.37-1.37c-.4-.4-.92-.59-1.43-.59-.52 0-1.04.2-1.43.59L10.3 9.45l-7.72 7.72c-.78.78-.78 2.05 0 2.83L4 21.41c.39.39.9.59 1.41.59.51 0 1.02-.2 1.41-.59l7.78-7.78 2.81-2.81c.8-.78.8-2.07 0-2.86zM5.41 20L4 18.59l7.72-7.72 1.47 1.35L5.41 20z\"/>\n",
              "  </svg>\n",
              "      </button>\n",
              "      \n",
              "  <style>\n",
              "    .colab-df-container {\n",
              "      display:flex;\n",
              "      flex-wrap:wrap;\n",
              "      gap: 12px;\n",
              "    }\n",
              "\n",
              "    .colab-df-convert {\n",
              "      background-color: #E8F0FE;\n",
              "      border: none;\n",
              "      border-radius: 50%;\n",
              "      cursor: pointer;\n",
              "      display: none;\n",
              "      fill: #1967D2;\n",
              "      height: 32px;\n",
              "      padding: 0 0 0 0;\n",
              "      width: 32px;\n",
              "    }\n",
              "\n",
              "    .colab-df-convert:hover {\n",
              "      background-color: #E2EBFA;\n",
              "      box-shadow: 0px 1px 2px rgba(60, 64, 67, 0.3), 0px 1px 3px 1px rgba(60, 64, 67, 0.15);\n",
              "      fill: #174EA6;\n",
              "    }\n",
              "\n",
              "    [theme=dark] .colab-df-convert {\n",
              "      background-color: #3B4455;\n",
              "      fill: #D2E3FC;\n",
              "    }\n",
              "\n",
              "    [theme=dark] .colab-df-convert:hover {\n",
              "      background-color: #434B5C;\n",
              "      box-shadow: 0px 1px 3px 1px rgba(0, 0, 0, 0.15);\n",
              "      filter: drop-shadow(0px 1px 2px rgba(0, 0, 0, 0.3));\n",
              "      fill: #FFFFFF;\n",
              "    }\n",
              "  </style>\n",
              "\n",
              "      <script>\n",
              "        const buttonEl =\n",
              "          document.querySelector('#df-42f542da-76af-4633-8210-f7099232126a button.colab-df-convert');\n",
              "        buttonEl.style.display =\n",
              "          google.colab.kernel.accessAllowed ? 'block' : 'none';\n",
              "\n",
              "        async function convertToInteractive(key) {\n",
              "          const element = document.querySelector('#df-42f542da-76af-4633-8210-f7099232126a');\n",
              "          const dataTable =\n",
              "            await google.colab.kernel.invokeFunction('convertToInteractive',\n",
              "                                                     [key], {});\n",
              "          if (!dataTable) return;\n",
              "\n",
              "          const docLinkHtml = 'Like what you see? Visit the ' +\n",
              "            '<a target=\"_blank\" href=https://colab.research.google.com/notebooks/data_table.ipynb>data table notebook</a>'\n",
              "            + ' to learn more about interactive tables.';\n",
              "          element.innerHTML = '';\n",
              "          dataTable['output_type'] = 'display_data';\n",
              "          await google.colab.output.renderOutput(dataTable, element);\n",
              "          const docLink = document.createElement('div');\n",
              "          docLink.innerHTML = docLinkHtml;\n",
              "          element.appendChild(docLink);\n",
              "        }\n",
              "      </script>\n",
              "    </div>\n",
              "  </div>\n",
              "  "
            ]
          },
          "metadata": {},
          "execution_count": 6
        }
      ]
    },
    {
      "cell_type": "markdown",
      "source": [
        "O filtro foi aplicado selecionando todas as linhas onde as seguintes condições foram observadas: 1) A subunidade amostral apresentava sua área 100% coberta por floresta (FLORESTA = 1.0); 2) As dez subparcelas foram alocadas em vegetação de floresta secundária jovem (código 113). "
      ],
      "metadata": {
        "id": "Gg-6tb6WO9Yo"
      }
    },
    {
      "cell_type": "code",
      "source": [
        "# Verificando quantas subunidades atendem aos requisitos\n",
        "flo_sec['UA'].count()"
      ],
      "metadata": {
        "id": "QcX-S5mDQNdd"
      },
      "execution_count": null,
      "outputs": []
    },
    {
      "cell_type": "markdown",
      "source": [
        "De 411 unidades mensuradas no total, 42 atenderam aos requisitos estabelecidos."
      ],
      "metadata": {
        "id": "Jv8hHMmWY-UT"
      }
    },
    {
      "cell_type": "code",
      "source": [
        "# Cruzando os dados de um dataset com o outro\n",
        "subpar_flo_sec = pd.merge(flo_sec[['UA', 'SU']], inv_es, on=['UA', 'SU'])\n",
        "subpar_flo_sec.head(10)"
      ],
      "metadata": {
        "id": "gvEXZvldYIYJ",
        "colab": {
          "base_uri": "https://localhost:8080/",
          "height": 363
        },
        "outputId": "08f15e2f-ec73-41a0-d728-b347cbfb3d63"
      },
      "execution_count": 7,
      "outputs": [
        {
          "output_type": "execute_result",
          "data": {
            "text/plain": [
              "       UA  SU  SUBP  COD_ARV  FUSTE   DAP  SA  QF  PS  AFF    HT    HF  PL  \\\n",
              "0  ES_101   4     1        1      1  11.6   1   2   2    0  11.0   6.5   0   \n",
              "1  ES_101   4     1        2      1  11.2   1   2   3    0   9.0   6.0   0   \n",
              "2  ES_101   4     1        3      1  15.3   1   2   1    0  21.0  13.0   0   \n",
              "3  ES_101   4     1        4      1  14.3   1   2   2    0  12.0   6.0   1   \n",
              "4  ES_101   4     1        5      1  14.3   2   2   2    0  15.0   7.0   1   \n",
              "5  ES_101   4     1        6      1  11.9   1   3   2    0  12.0   4.0   1   \n",
              "6  ES_101   4     1        7      1  11.9   3   3   3    0   3.0   2.0   1   \n",
              "7  ES_101   4     1        8      1  10.1   3   3   3    0   2.5   1.7   0   \n",
              "8  ES_101   4     1        9      1  13.3   1   2   2    0  12.0   7.0   1   \n",
              "9  ES_101   4     2       10      1  10.5   1   2   3    0   7.5   5.0   1   \n",
              "\n",
              "   HAB  MB  \n",
              "0  NaN   0  \n",
              "1  NaN   0  \n",
              "2  NaN   0  \n",
              "3  NaN   0  \n",
              "4  NaN   1  \n",
              "5  NaN   0  \n",
              "6  NaN   0  \n",
              "7  NaN   0  \n",
              "8  NaN   0  \n",
              "9  NaN   1  "
            ],
            "text/html": [
              "\n",
              "  <div id=\"df-1dfc49c4-cce9-4b54-84bb-9f1db66938f4\">\n",
              "    <div class=\"colab-df-container\">\n",
              "      <div>\n",
              "<style scoped>\n",
              "    .dataframe tbody tr th:only-of-type {\n",
              "        vertical-align: middle;\n",
              "    }\n",
              "\n",
              "    .dataframe tbody tr th {\n",
              "        vertical-align: top;\n",
              "    }\n",
              "\n",
              "    .dataframe thead th {\n",
              "        text-align: right;\n",
              "    }\n",
              "</style>\n",
              "<table border=\"1\" class=\"dataframe\">\n",
              "  <thead>\n",
              "    <tr style=\"text-align: right;\">\n",
              "      <th></th>\n",
              "      <th>UA</th>\n",
              "      <th>SU</th>\n",
              "      <th>SUBP</th>\n",
              "      <th>COD_ARV</th>\n",
              "      <th>FUSTE</th>\n",
              "      <th>DAP</th>\n",
              "      <th>SA</th>\n",
              "      <th>QF</th>\n",
              "      <th>PS</th>\n",
              "      <th>AFF</th>\n",
              "      <th>HT</th>\n",
              "      <th>HF</th>\n",
              "      <th>PL</th>\n",
              "      <th>HAB</th>\n",
              "      <th>MB</th>\n",
              "    </tr>\n",
              "  </thead>\n",
              "  <tbody>\n",
              "    <tr>\n",
              "      <th>0</th>\n",
              "      <td>ES_101</td>\n",
              "      <td>4</td>\n",
              "      <td>1</td>\n",
              "      <td>1</td>\n",
              "      <td>1</td>\n",
              "      <td>11.6</td>\n",
              "      <td>1</td>\n",
              "      <td>2</td>\n",
              "      <td>2</td>\n",
              "      <td>0</td>\n",
              "      <td>11.0</td>\n",
              "      <td>6.5</td>\n",
              "      <td>0</td>\n",
              "      <td>NaN</td>\n",
              "      <td>0</td>\n",
              "    </tr>\n",
              "    <tr>\n",
              "      <th>1</th>\n",
              "      <td>ES_101</td>\n",
              "      <td>4</td>\n",
              "      <td>1</td>\n",
              "      <td>2</td>\n",
              "      <td>1</td>\n",
              "      <td>11.2</td>\n",
              "      <td>1</td>\n",
              "      <td>2</td>\n",
              "      <td>3</td>\n",
              "      <td>0</td>\n",
              "      <td>9.0</td>\n",
              "      <td>6.0</td>\n",
              "      <td>0</td>\n",
              "      <td>NaN</td>\n",
              "      <td>0</td>\n",
              "    </tr>\n",
              "    <tr>\n",
              "      <th>2</th>\n",
              "      <td>ES_101</td>\n",
              "      <td>4</td>\n",
              "      <td>1</td>\n",
              "      <td>3</td>\n",
              "      <td>1</td>\n",
              "      <td>15.3</td>\n",
              "      <td>1</td>\n",
              "      <td>2</td>\n",
              "      <td>1</td>\n",
              "      <td>0</td>\n",
              "      <td>21.0</td>\n",
              "      <td>13.0</td>\n",
              "      <td>0</td>\n",
              "      <td>NaN</td>\n",
              "      <td>0</td>\n",
              "    </tr>\n",
              "    <tr>\n",
              "      <th>3</th>\n",
              "      <td>ES_101</td>\n",
              "      <td>4</td>\n",
              "      <td>1</td>\n",
              "      <td>4</td>\n",
              "      <td>1</td>\n",
              "      <td>14.3</td>\n",
              "      <td>1</td>\n",
              "      <td>2</td>\n",
              "      <td>2</td>\n",
              "      <td>0</td>\n",
              "      <td>12.0</td>\n",
              "      <td>6.0</td>\n",
              "      <td>1</td>\n",
              "      <td>NaN</td>\n",
              "      <td>0</td>\n",
              "    </tr>\n",
              "    <tr>\n",
              "      <th>4</th>\n",
              "      <td>ES_101</td>\n",
              "      <td>4</td>\n",
              "      <td>1</td>\n",
              "      <td>5</td>\n",
              "      <td>1</td>\n",
              "      <td>14.3</td>\n",
              "      <td>2</td>\n",
              "      <td>2</td>\n",
              "      <td>2</td>\n",
              "      <td>0</td>\n",
              "      <td>15.0</td>\n",
              "      <td>7.0</td>\n",
              "      <td>1</td>\n",
              "      <td>NaN</td>\n",
              "      <td>1</td>\n",
              "    </tr>\n",
              "    <tr>\n",
              "      <th>5</th>\n",
              "      <td>ES_101</td>\n",
              "      <td>4</td>\n",
              "      <td>1</td>\n",
              "      <td>6</td>\n",
              "      <td>1</td>\n",
              "      <td>11.9</td>\n",
              "      <td>1</td>\n",
              "      <td>3</td>\n",
              "      <td>2</td>\n",
              "      <td>0</td>\n",
              "      <td>12.0</td>\n",
              "      <td>4.0</td>\n",
              "      <td>1</td>\n",
              "      <td>NaN</td>\n",
              "      <td>0</td>\n",
              "    </tr>\n",
              "    <tr>\n",
              "      <th>6</th>\n",
              "      <td>ES_101</td>\n",
              "      <td>4</td>\n",
              "      <td>1</td>\n",
              "      <td>7</td>\n",
              "      <td>1</td>\n",
              "      <td>11.9</td>\n",
              "      <td>3</td>\n",
              "      <td>3</td>\n",
              "      <td>3</td>\n",
              "      <td>0</td>\n",
              "      <td>3.0</td>\n",
              "      <td>2.0</td>\n",
              "      <td>1</td>\n",
              "      <td>NaN</td>\n",
              "      <td>0</td>\n",
              "    </tr>\n",
              "    <tr>\n",
              "      <th>7</th>\n",
              "      <td>ES_101</td>\n",
              "      <td>4</td>\n",
              "      <td>1</td>\n",
              "      <td>8</td>\n",
              "      <td>1</td>\n",
              "      <td>10.1</td>\n",
              "      <td>3</td>\n",
              "      <td>3</td>\n",
              "      <td>3</td>\n",
              "      <td>0</td>\n",
              "      <td>2.5</td>\n",
              "      <td>1.7</td>\n",
              "      <td>0</td>\n",
              "      <td>NaN</td>\n",
              "      <td>0</td>\n",
              "    </tr>\n",
              "    <tr>\n",
              "      <th>8</th>\n",
              "      <td>ES_101</td>\n",
              "      <td>4</td>\n",
              "      <td>1</td>\n",
              "      <td>9</td>\n",
              "      <td>1</td>\n",
              "      <td>13.3</td>\n",
              "      <td>1</td>\n",
              "      <td>2</td>\n",
              "      <td>2</td>\n",
              "      <td>0</td>\n",
              "      <td>12.0</td>\n",
              "      <td>7.0</td>\n",
              "      <td>1</td>\n",
              "      <td>NaN</td>\n",
              "      <td>0</td>\n",
              "    </tr>\n",
              "    <tr>\n",
              "      <th>9</th>\n",
              "      <td>ES_101</td>\n",
              "      <td>4</td>\n",
              "      <td>2</td>\n",
              "      <td>10</td>\n",
              "      <td>1</td>\n",
              "      <td>10.5</td>\n",
              "      <td>1</td>\n",
              "      <td>2</td>\n",
              "      <td>3</td>\n",
              "      <td>0</td>\n",
              "      <td>7.5</td>\n",
              "      <td>5.0</td>\n",
              "      <td>1</td>\n",
              "      <td>NaN</td>\n",
              "      <td>1</td>\n",
              "    </tr>\n",
              "  </tbody>\n",
              "</table>\n",
              "</div>\n",
              "      <button class=\"colab-df-convert\" onclick=\"convertToInteractive('df-1dfc49c4-cce9-4b54-84bb-9f1db66938f4')\"\n",
              "              title=\"Convert this dataframe to an interactive table.\"\n",
              "              style=\"display:none;\">\n",
              "        \n",
              "  <svg xmlns=\"http://www.w3.org/2000/svg\" height=\"24px\"viewBox=\"0 0 24 24\"\n",
              "       width=\"24px\">\n",
              "    <path d=\"M0 0h24v24H0V0z\" fill=\"none\"/>\n",
              "    <path d=\"M18.56 5.44l.94 2.06.94-2.06 2.06-.94-2.06-.94-.94-2.06-.94 2.06-2.06.94zm-11 1L8.5 8.5l.94-2.06 2.06-.94-2.06-.94L8.5 2.5l-.94 2.06-2.06.94zm10 10l.94 2.06.94-2.06 2.06-.94-2.06-.94-.94-2.06-.94 2.06-2.06.94z\"/><path d=\"M17.41 7.96l-1.37-1.37c-.4-.4-.92-.59-1.43-.59-.52 0-1.04.2-1.43.59L10.3 9.45l-7.72 7.72c-.78.78-.78 2.05 0 2.83L4 21.41c.39.39.9.59 1.41.59.51 0 1.02-.2 1.41-.59l7.78-7.78 2.81-2.81c.8-.78.8-2.07 0-2.86zM5.41 20L4 18.59l7.72-7.72 1.47 1.35L5.41 20z\"/>\n",
              "  </svg>\n",
              "      </button>\n",
              "      \n",
              "  <style>\n",
              "    .colab-df-container {\n",
              "      display:flex;\n",
              "      flex-wrap:wrap;\n",
              "      gap: 12px;\n",
              "    }\n",
              "\n",
              "    .colab-df-convert {\n",
              "      background-color: #E8F0FE;\n",
              "      border: none;\n",
              "      border-radius: 50%;\n",
              "      cursor: pointer;\n",
              "      display: none;\n",
              "      fill: #1967D2;\n",
              "      height: 32px;\n",
              "      padding: 0 0 0 0;\n",
              "      width: 32px;\n",
              "    }\n",
              "\n",
              "    .colab-df-convert:hover {\n",
              "      background-color: #E2EBFA;\n",
              "      box-shadow: 0px 1px 2px rgba(60, 64, 67, 0.3), 0px 1px 3px 1px rgba(60, 64, 67, 0.15);\n",
              "      fill: #174EA6;\n",
              "    }\n",
              "\n",
              "    [theme=dark] .colab-df-convert {\n",
              "      background-color: #3B4455;\n",
              "      fill: #D2E3FC;\n",
              "    }\n",
              "\n",
              "    [theme=dark] .colab-df-convert:hover {\n",
              "      background-color: #434B5C;\n",
              "      box-shadow: 0px 1px 3px 1px rgba(0, 0, 0, 0.15);\n",
              "      filter: drop-shadow(0px 1px 2px rgba(0, 0, 0, 0.3));\n",
              "      fill: #FFFFFF;\n",
              "    }\n",
              "  </style>\n",
              "\n",
              "      <script>\n",
              "        const buttonEl =\n",
              "          document.querySelector('#df-1dfc49c4-cce9-4b54-84bb-9f1db66938f4 button.colab-df-convert');\n",
              "        buttonEl.style.display =\n",
              "          google.colab.kernel.accessAllowed ? 'block' : 'none';\n",
              "\n",
              "        async function convertToInteractive(key) {\n",
              "          const element = document.querySelector('#df-1dfc49c4-cce9-4b54-84bb-9f1db66938f4');\n",
              "          const dataTable =\n",
              "            await google.colab.kernel.invokeFunction('convertToInteractive',\n",
              "                                                     [key], {});\n",
              "          if (!dataTable) return;\n",
              "\n",
              "          const docLinkHtml = 'Like what you see? Visit the ' +\n",
              "            '<a target=\"_blank\" href=https://colab.research.google.com/notebooks/data_table.ipynb>data table notebook</a>'\n",
              "            + ' to learn more about interactive tables.';\n",
              "          element.innerHTML = '';\n",
              "          dataTable['output_type'] = 'display_data';\n",
              "          await google.colab.output.renderOutput(dataTable, element);\n",
              "          const docLink = document.createElement('div');\n",
              "          docLink.innerHTML = docLinkHtml;\n",
              "          element.appendChild(docLink);\n",
              "        }\n",
              "      </script>\n",
              "    </div>\n",
              "  </div>\n",
              "  "
            ]
          },
          "metadata": {},
          "execution_count": 7
        }
      ]
    },
    {
      "cell_type": "code",
      "source": [
        "# Verificando o número de árvores selecionadas segundo os requisitos estabelecidos\n",
        "subpar_flo_sec['DAP'].count()"
      ],
      "metadata": {
        "id": "6OELy16yZObC"
      },
      "execution_count": null,
      "outputs": []
    },
    {
      "cell_type": "markdown",
      "source": [
        "Primeiro, observa-se que os dados foram devidamente filtrados e depois que das 8.522 árvores mensuradas no inventário do ES 1.249 estavam localizadas em subunidades cobertas por 100% de floresta secundária jovem."
      ],
      "metadata": {
        "id": "YEytEL5pZfVT"
      }
    },
    {
      "cell_type": "code",
      "source": [
        "# Retirando as colunas com variáveis que não serão utilizadas nas análises\n",
        "dados = subpar_flo_sec.drop(['COD_ARV', 'FUSTE', 'AFF', 'PL', 'HAB', 'MB'], axis=1)\n",
        "dados.head(10)"
      ],
      "metadata": {
        "id": "-3Eku-rParu6",
        "colab": {
          "base_uri": "https://localhost:8080/",
          "height": 363
        },
        "outputId": "9e3edb85-e655-466a-ca22-23f2b83d528e"
      },
      "execution_count": 8,
      "outputs": [
        {
          "output_type": "execute_result",
          "data": {
            "text/plain": [
              "       UA  SU  SUBP   DAP  SA  QF  PS    HT    HF\n",
              "0  ES_101   4     1  11.6   1   2   2  11.0   6.5\n",
              "1  ES_101   4     1  11.2   1   2   3   9.0   6.0\n",
              "2  ES_101   4     1  15.3   1   2   1  21.0  13.0\n",
              "3  ES_101   4     1  14.3   1   2   2  12.0   6.0\n",
              "4  ES_101   4     1  14.3   2   2   2  15.0   7.0\n",
              "5  ES_101   4     1  11.9   1   3   2  12.0   4.0\n",
              "6  ES_101   4     1  11.9   3   3   3   3.0   2.0\n",
              "7  ES_101   4     1  10.1   3   3   3   2.5   1.7\n",
              "8  ES_101   4     1  13.3   1   2   2  12.0   7.0\n",
              "9  ES_101   4     2  10.5   1   2   3   7.5   5.0"
            ],
            "text/html": [
              "\n",
              "  <div id=\"df-218940ad-2cea-46b7-a12c-916f80fed7ab\">\n",
              "    <div class=\"colab-df-container\">\n",
              "      <div>\n",
              "<style scoped>\n",
              "    .dataframe tbody tr th:only-of-type {\n",
              "        vertical-align: middle;\n",
              "    }\n",
              "\n",
              "    .dataframe tbody tr th {\n",
              "        vertical-align: top;\n",
              "    }\n",
              "\n",
              "    .dataframe thead th {\n",
              "        text-align: right;\n",
              "    }\n",
              "</style>\n",
              "<table border=\"1\" class=\"dataframe\">\n",
              "  <thead>\n",
              "    <tr style=\"text-align: right;\">\n",
              "      <th></th>\n",
              "      <th>UA</th>\n",
              "      <th>SU</th>\n",
              "      <th>SUBP</th>\n",
              "      <th>DAP</th>\n",
              "      <th>SA</th>\n",
              "      <th>QF</th>\n",
              "      <th>PS</th>\n",
              "      <th>HT</th>\n",
              "      <th>HF</th>\n",
              "    </tr>\n",
              "  </thead>\n",
              "  <tbody>\n",
              "    <tr>\n",
              "      <th>0</th>\n",
              "      <td>ES_101</td>\n",
              "      <td>4</td>\n",
              "      <td>1</td>\n",
              "      <td>11.6</td>\n",
              "      <td>1</td>\n",
              "      <td>2</td>\n",
              "      <td>2</td>\n",
              "      <td>11.0</td>\n",
              "      <td>6.5</td>\n",
              "    </tr>\n",
              "    <tr>\n",
              "      <th>1</th>\n",
              "      <td>ES_101</td>\n",
              "      <td>4</td>\n",
              "      <td>1</td>\n",
              "      <td>11.2</td>\n",
              "      <td>1</td>\n",
              "      <td>2</td>\n",
              "      <td>3</td>\n",
              "      <td>9.0</td>\n",
              "      <td>6.0</td>\n",
              "    </tr>\n",
              "    <tr>\n",
              "      <th>2</th>\n",
              "      <td>ES_101</td>\n",
              "      <td>4</td>\n",
              "      <td>1</td>\n",
              "      <td>15.3</td>\n",
              "      <td>1</td>\n",
              "      <td>2</td>\n",
              "      <td>1</td>\n",
              "      <td>21.0</td>\n",
              "      <td>13.0</td>\n",
              "    </tr>\n",
              "    <tr>\n",
              "      <th>3</th>\n",
              "      <td>ES_101</td>\n",
              "      <td>4</td>\n",
              "      <td>1</td>\n",
              "      <td>14.3</td>\n",
              "      <td>1</td>\n",
              "      <td>2</td>\n",
              "      <td>2</td>\n",
              "      <td>12.0</td>\n",
              "      <td>6.0</td>\n",
              "    </tr>\n",
              "    <tr>\n",
              "      <th>4</th>\n",
              "      <td>ES_101</td>\n",
              "      <td>4</td>\n",
              "      <td>1</td>\n",
              "      <td>14.3</td>\n",
              "      <td>2</td>\n",
              "      <td>2</td>\n",
              "      <td>2</td>\n",
              "      <td>15.0</td>\n",
              "      <td>7.0</td>\n",
              "    </tr>\n",
              "    <tr>\n",
              "      <th>5</th>\n",
              "      <td>ES_101</td>\n",
              "      <td>4</td>\n",
              "      <td>1</td>\n",
              "      <td>11.9</td>\n",
              "      <td>1</td>\n",
              "      <td>3</td>\n",
              "      <td>2</td>\n",
              "      <td>12.0</td>\n",
              "      <td>4.0</td>\n",
              "    </tr>\n",
              "    <tr>\n",
              "      <th>6</th>\n",
              "      <td>ES_101</td>\n",
              "      <td>4</td>\n",
              "      <td>1</td>\n",
              "      <td>11.9</td>\n",
              "      <td>3</td>\n",
              "      <td>3</td>\n",
              "      <td>3</td>\n",
              "      <td>3.0</td>\n",
              "      <td>2.0</td>\n",
              "    </tr>\n",
              "    <tr>\n",
              "      <th>7</th>\n",
              "      <td>ES_101</td>\n",
              "      <td>4</td>\n",
              "      <td>1</td>\n",
              "      <td>10.1</td>\n",
              "      <td>3</td>\n",
              "      <td>3</td>\n",
              "      <td>3</td>\n",
              "      <td>2.5</td>\n",
              "      <td>1.7</td>\n",
              "    </tr>\n",
              "    <tr>\n",
              "      <th>8</th>\n",
              "      <td>ES_101</td>\n",
              "      <td>4</td>\n",
              "      <td>1</td>\n",
              "      <td>13.3</td>\n",
              "      <td>1</td>\n",
              "      <td>2</td>\n",
              "      <td>2</td>\n",
              "      <td>12.0</td>\n",
              "      <td>7.0</td>\n",
              "    </tr>\n",
              "    <tr>\n",
              "      <th>9</th>\n",
              "      <td>ES_101</td>\n",
              "      <td>4</td>\n",
              "      <td>2</td>\n",
              "      <td>10.5</td>\n",
              "      <td>1</td>\n",
              "      <td>2</td>\n",
              "      <td>3</td>\n",
              "      <td>7.5</td>\n",
              "      <td>5.0</td>\n",
              "    </tr>\n",
              "  </tbody>\n",
              "</table>\n",
              "</div>\n",
              "      <button class=\"colab-df-convert\" onclick=\"convertToInteractive('df-218940ad-2cea-46b7-a12c-916f80fed7ab')\"\n",
              "              title=\"Convert this dataframe to an interactive table.\"\n",
              "              style=\"display:none;\">\n",
              "        \n",
              "  <svg xmlns=\"http://www.w3.org/2000/svg\" height=\"24px\"viewBox=\"0 0 24 24\"\n",
              "       width=\"24px\">\n",
              "    <path d=\"M0 0h24v24H0V0z\" fill=\"none\"/>\n",
              "    <path d=\"M18.56 5.44l.94 2.06.94-2.06 2.06-.94-2.06-.94-.94-2.06-.94 2.06-2.06.94zm-11 1L8.5 8.5l.94-2.06 2.06-.94-2.06-.94L8.5 2.5l-.94 2.06-2.06.94zm10 10l.94 2.06.94-2.06 2.06-.94-2.06-.94-.94-2.06-.94 2.06-2.06.94z\"/><path d=\"M17.41 7.96l-1.37-1.37c-.4-.4-.92-.59-1.43-.59-.52 0-1.04.2-1.43.59L10.3 9.45l-7.72 7.72c-.78.78-.78 2.05 0 2.83L4 21.41c.39.39.9.59 1.41.59.51 0 1.02-.2 1.41-.59l7.78-7.78 2.81-2.81c.8-.78.8-2.07 0-2.86zM5.41 20L4 18.59l7.72-7.72 1.47 1.35L5.41 20z\"/>\n",
              "  </svg>\n",
              "      </button>\n",
              "      \n",
              "  <style>\n",
              "    .colab-df-container {\n",
              "      display:flex;\n",
              "      flex-wrap:wrap;\n",
              "      gap: 12px;\n",
              "    }\n",
              "\n",
              "    .colab-df-convert {\n",
              "      background-color: #E8F0FE;\n",
              "      border: none;\n",
              "      border-radius: 50%;\n",
              "      cursor: pointer;\n",
              "      display: none;\n",
              "      fill: #1967D2;\n",
              "      height: 32px;\n",
              "      padding: 0 0 0 0;\n",
              "      width: 32px;\n",
              "    }\n",
              "\n",
              "    .colab-df-convert:hover {\n",
              "      background-color: #E2EBFA;\n",
              "      box-shadow: 0px 1px 2px rgba(60, 64, 67, 0.3), 0px 1px 3px 1px rgba(60, 64, 67, 0.15);\n",
              "      fill: #174EA6;\n",
              "    }\n",
              "\n",
              "    [theme=dark] .colab-df-convert {\n",
              "      background-color: #3B4455;\n",
              "      fill: #D2E3FC;\n",
              "    }\n",
              "\n",
              "    [theme=dark] .colab-df-convert:hover {\n",
              "      background-color: #434B5C;\n",
              "      box-shadow: 0px 1px 3px 1px rgba(0, 0, 0, 0.15);\n",
              "      filter: drop-shadow(0px 1px 2px rgba(0, 0, 0, 0.3));\n",
              "      fill: #FFFFFF;\n",
              "    }\n",
              "  </style>\n",
              "\n",
              "      <script>\n",
              "        const buttonEl =\n",
              "          document.querySelector('#df-218940ad-2cea-46b7-a12c-916f80fed7ab button.colab-df-convert');\n",
              "        buttonEl.style.display =\n",
              "          google.colab.kernel.accessAllowed ? 'block' : 'none';\n",
              "\n",
              "        async function convertToInteractive(key) {\n",
              "          const element = document.querySelector('#df-218940ad-2cea-46b7-a12c-916f80fed7ab');\n",
              "          const dataTable =\n",
              "            await google.colab.kernel.invokeFunction('convertToInteractive',\n",
              "                                                     [key], {});\n",
              "          if (!dataTable) return;\n",
              "\n",
              "          const docLinkHtml = 'Like what you see? Visit the ' +\n",
              "            '<a target=\"_blank\" href=https://colab.research.google.com/notebooks/data_table.ipynb>data table notebook</a>'\n",
              "            + ' to learn more about interactive tables.';\n",
              "          element.innerHTML = '';\n",
              "          dataTable['output_type'] = 'display_data';\n",
              "          await google.colab.output.renderOutput(dataTable, element);\n",
              "          const docLink = document.createElement('div');\n",
              "          docLink.innerHTML = docLinkHtml;\n",
              "          element.appendChild(docLink);\n",
              "        }\n",
              "      </script>\n",
              "    </div>\n",
              "  </div>\n",
              "  "
            ]
          },
          "metadata": {},
          "execution_count": 8
        }
      ]
    },
    {
      "cell_type": "markdown",
      "source": [
        "Para reduzir a dimensionalidade dos dados foi ralizada a seleção de características (*feature selection*), retirando do dataset aquelas variáveis que são redundantes ou irrelevantes para a presente análise. Poderiam ser retiradas também UA, SU e SUBP, mas optou-se pela permanência dessas caso seja necessário checar adiante alguma informação sobre as unidades amostrais."
      ],
      "metadata": {
        "id": "rC5k82Z3pO4R"
      }
    },
    {
      "cell_type": "code",
      "source": [
        "# Resumo dos dados quantitativos de interesse\n",
        "dados[['DAP', 'HT', 'HF']].describe()"
      ],
      "metadata": {
        "id": "a29b7_CsgR9Q"
      },
      "execution_count": null,
      "outputs": []
    },
    {
      "cell_type": "code",
      "source": [
        "# Comparação com os dados gerais apresentados anteriormente\n",
        "inv_es[['DAP', 'HT', 'HF']].describe()"
      ],
      "metadata": {
        "id": "yUv5KRiegpG4"
      },
      "execution_count": null,
      "outputs": []
    },
    {
      "cell_type": "markdown",
      "source": [
        "As médias e a dispersão dos dados são menores após a seleção que foi feita. Era de se esperar que as medidas de tendência central fossem menores após filtragem do dados para florestas jovens, já que as árvores são menores neste tipo de vegetação. \n",
        "\n",
        "Convém avaliar com mais detalhe a variação."
      ],
      "metadata": {
        "id": "VBgpO5EphjXp"
      }
    },
    {
      "cell_type": "code",
      "source": [
        "# Cria uma função para calcular o coeficiente de variação\n",
        "def coef_var(param): \n",
        "  resultado = (statistics.stdev(param) / statistics.mean(param)) * 100\n",
        "  print(round(resultado, 2))\n",
        "\n",
        "# Calcula o CV para os dados de interesse\n",
        "print('CV DAP =', end=' ') \n",
        "coef_var(dados['DAP']);\n",
        "print('CV HT =', end=' ') \n",
        "coef_var(dados['HT']);\n",
        "print('CV HF =', end=' ') \n",
        "coef_var(dados['HF'])"
      ],
      "metadata": {
        "id": "9_pBL0MXiEtC",
        "colab": {
          "base_uri": "https://localhost:8080/"
        },
        "outputId": "fbbdb223-b86d-4a01-8336-161b12486309"
      },
      "execution_count": 9,
      "outputs": [
        {
          "output_type": "stream",
          "name": "stdout",
          "text": [
            "CV DAP = 38.93\n",
            "CV HT = 39.29\n",
            "CV HF = 51.53\n"
          ]
        }
      ]
    },
    {
      "cell_type": "code",
      "source": [
        "# Compara com o CV das mesmas variáveis para os dados gerais\n",
        "print('CV DAP =', end=' ') \n",
        "coef_var(inv_es['DAP']);\n",
        "print('CV HT =', end=' ') \n",
        "coef_var(inv_es['HT']);\n",
        "print('CV HF =', end=' ') \n",
        "coef_var(inv_es['HF'])"
      ],
      "metadata": {
        "id": "mBFxk_EUmmwa"
      },
      "execution_count": null,
      "outputs": []
    },
    {
      "cell_type": "markdown",
      "source": [
        "Observa-se que apesar de alta, a variação foi um pouco menor para os dados filtrados. A alta variação pode ser justificada pela característica dos dados, que foram coletados em diferentes regiões do estado e em florestas naturais com diversidade genética, de espécies, idade das árvores e outros fatores. \n",
        "\n",
        "Para avaliar maneiras adicionais de processar os dados, a possível relação entre as variáveis é avaliada por meio de gráficos na sequência."
      ],
      "metadata": {
        "id": "0oZg5nczm--2"
      }
    },
    {
      "cell_type": "code",
      "source": [
        "# Gráfico de dispersão simples HT x DAP\n",
        "plt.scatter(dados['HT'], dados['DAP']) # gera o gráfico\n",
        "plt.title('Florestas secundárias jovens no ES: Altura total x DAP') # insere o título\n",
        "plt.xlabel('Altura total (m)') # insere o título no eixo x\n",
        "plt.ylabel('Diâmetro na altura do peito (cm)') # insere o título no eixo y"
      ],
      "metadata": {
        "id": "9RA7TZaBpjYq"
      },
      "execution_count": null,
      "outputs": []
    },
    {
      "cell_type": "markdown",
      "source": [
        "Observa-se uma correlação linear positiva aparentemente mediana entre as variáveis altura total e DAP nas florestas secundárias jovens. Ou seja, há uma tendência de que quanto maior o diâmetro da árvore, maior será a sua altura. Além disso, é possível constatar que algumas observações se afastam das demais no gráfico, indicando a possível existência de valores discrepantes. Convém considerar o tratamento dos dados para retirada destes valores."
      ],
      "metadata": {
        "id": "2WKTWPSUqwWw"
      }
    },
    {
      "cell_type": "code",
      "source": [
        "# Gráfico de dispersão simples HT x HF\n",
        "plt.scatter(dados['HT'], dados['HF']) # gera o gráfico\n",
        "plt.title('Florestas secundárias jovens no ES: Altura total x Altura do fuste') # insere o título\n",
        "plt.xlabel('Altura total (m)') # insere o título no eixo x\n",
        "plt.ylabel('Altura do fuste (m)') # insere o título no eixo y"
      ],
      "metadata": {
        "id": "U-tLzkqOsv8I"
      },
      "execution_count": null,
      "outputs": []
    },
    {
      "cell_type": "markdown",
      "source": [
        "No caso da relação entre a altura total e a altura do fuste observa-se uma correlação positiva mais evidente entre as variáveis. Além disso, há menos valores afastados das observações centrais e esse afastamento é menor. A altura do fuste é considerada como a altura do tronco da árvore até a sua primeira bifurcação. Consiste em uma variável mais difícil de medir que o DAP, porém mais fácil que a altura total. Portanto, convém considerá-la como possível variável para estimar a altura total."
      ],
      "metadata": {
        "id": "iLBfLkRvtEqx"
      }
    },
    {
      "cell_type": "code",
      "source": [
        "# Gráfico de dispersão simples HF x DAP\n",
        "plt.scatter(dados['HF'], dados['DAP']) # gera o gráfico\n",
        "plt.title('Florestas secundárias jovens no ES: Altura do fuste x DAP') # insere o título\n",
        "plt.xlabel('Altura do fuste (m)') # insere o título no eixo x\n",
        "plt.ylabel('Diâmetro na altura do peito (cm)') # insere o título no eixo y"
      ],
      "metadata": {
        "id": "Oxb9Z7KFuCsW"
      },
      "execution_count": null,
      "outputs": []
    },
    {
      "cell_type": "markdown",
      "source": [
        "Neste caso, observa-se um resultado similar ao da relação entre altura total e DAP. No entanto, aqui a correlação aparenta ser consideravelmente mais fraca.\n",
        "\n",
        "Considerando o primeiro gráfico como o mais importante de acordo com os objetivos desta análise, convém detalhar um pouco mais sua visualização."
      ],
      "metadata": {
        "id": "D2z3CYyFuNIw"
      }
    },
    {
      "cell_type": "code",
      "source": [
        "# Gráfico de dispersão HT x DAP colorindo os dados quanto à qualidade do fuste\n",
        "scatter = plt.scatter(dados['HT'], dados['DAP'], c=dados['QF']) # gera o gráfico\n",
        "plt.title('Inventário ES: Altura total x diâmetro') # insere o título\n",
        "plt.xlabel('Altura total (m)') # insere o título no eixo x\n",
        "plt.ylabel('Diâmetro na altura do peito (cm)') # inser o título no eixo y\n",
        "plt.legend(handles=scatter.legend_elements()[0], labels=['Fuste reto', 'Fuste pouco torto', 'Fuste muito torto', 'Fuste danificado']) # insere e detalha a legenda"
      ],
      "metadata": {
        "id": "Z2ArJgdevHgt"
      },
      "execution_count": null,
      "outputs": []
    },
    {
      "cell_type": "markdown",
      "source": [
        "Verifica-se que a qualidade do fuste influencia na relação entre a altura total e o DAP. Muitas das observações mais afastadas de uma suposta reta de regressão apresentam fustes danificados ou muito tortos."
      ],
      "metadata": {
        "id": "XT6sRekq6Q6i"
      }
    },
    {
      "cell_type": "code",
      "source": [
        "# Média do diâmetro à altura do peito, altura total e altura do fuste agrupando os dados pela qualidade do fuste\n",
        "dados.groupby('QF')[['DAP', 'HT', 'HF']].mean()"
      ],
      "metadata": {
        "id": "tNjANghIbvH5"
      },
      "execution_count": null,
      "outputs": []
    },
    {
      "cell_type": "markdown",
      "source": [
        "Observa-se que o DAP apresenta valores médios próximos para árvores com diferentes níveis de qualidade do fuste. Enquanto a altura tende a ser menor em árvores com fustes muito tortos ou danificados. Uma alternativa para melhorar a relação entre HT e DAP seria filtrar os dados retirando árvores danificadas. Por outro lado, florestas tropicais são ecossistemas originalmente diversos, toda essa variação é natural e deve ser considerada nas análises. Sendo assim, uma outra opção seria considerar QF como uma das variáveis a ser utilizada no modelo. "
      ],
      "metadata": {
        "id": "l-pKhtAhLohp"
      }
    },
    {
      "cell_type": "code",
      "source": [
        "# Definindo uma função para retornar os valores desejados\n",
        "def num_per(param):\n",
        "    quantidade = param.value_counts()\n",
        "    percentual = (quantidade/param.count()) * 100\n",
        "    print(quantidade)\n",
        "    print(percentual)\n",
        "\n",
        "# Quantidade e percentual de árvores em cada nível de qualidade do fuste\n",
        "num_per(dados['QF'])"
      ],
      "metadata": {
        "id": "pWfFtNHO609A"
      },
      "execution_count": null,
      "outputs": []
    },
    {
      "cell_type": "markdown",
      "source": [
        "Verifica-se que retirar as árvores danificadas da amostra implicaria em remover menos de 10% das observações do dataset. O que pode ser considerado aceitável."
      ],
      "metadata": {
        "id": "2sNBHcQ89M1e"
      }
    },
    {
      "cell_type": "code",
      "source": [
        "# Gráfico de dispersão HT x DAP colorindo os dados quanto à sanidade do fuste\n",
        "scatter = plt.scatter(dados['HT'], dados['DAP'], c=dados['SA']) # gera o gráfico\n",
        "plt.title('Inventário ES: Altura total x diâmetro') # insere o título\n",
        "plt.xlabel('Altura total (m)') # insere o título no eixo x\n",
        "plt.ylabel('Diâmetro na altura do peito (cm)') # inser o título no eixo y\n",
        "plt.legend(handles=scatter.legend_elements()[0], labels=['Fuste sano', 'Fuste pouco danificado', 'Fuste muito danificado', 'Árvore morta em pé'], \n",
        "           loc='upper left', prop={'size': 9}) # insere e detalha a legenda"
      ],
      "metadata": {
        "id": "ZepALzcpwKYa"
      },
      "execution_count": null,
      "outputs": []
    },
    {
      "cell_type": "markdown",
      "source": [
        "Varifica-se que a sanidade do fuste também influencia na relação entre HT e DAP. Similar à qualidade, árvores com fustes de menor sanidade estão entre as observações com valores discrepantes."
      ],
      "metadata": {
        "id": "fvx6TGokOcpP"
      }
    },
    {
      "cell_type": "code",
      "source": [
        "# Média do diâmetro à altura do peito, altura total e altura do fuste agrupando os dados pela sanidade do fuste\n",
        "dados.groupby('SA')[['DAP', 'HT', 'HF']].mean()"
      ],
      "metadata": {
        "id": "3C9iu8XceDpn"
      },
      "execution_count": null,
      "outputs": []
    },
    {
      "cell_type": "markdown",
      "source": [
        "Assim como observado para QF, a média para o DAP apresenta pouca variação entre os níveis de SA. Enquanto a altura tende a diminuir para árvores com fustes de menor sanidade. Neste caso, convém retirar do dataset as árvores mortas em pé, já que para fins de inventário para licenciamento elas são menos importantes do que quando se deseja avaliar a dinâmica ou estágio de uma floresta. Ainda assim, seria válido considerar a presença da variável SA em um eventual modelo."
      ],
      "metadata": {
        "id": "iazarMNLPAlM"
      }
    },
    {
      "cell_type": "code",
      "source": [
        "# Quantidade e percentual de árvores em cada nível de sanidade da árvore\n",
        "num_per(dados['SA'])"
      ],
      "metadata": {
        "id": "An_Iwr9z-bOP"
      },
      "execution_count": null,
      "outputs": []
    },
    {
      "cell_type": "markdown",
      "source": [
        "Verifica-se que retirar da base de dados as árvores em pé implicaria em uma redução de menos de 10% dos dados. O que pode ser considerado aceitável."
      ],
      "metadata": {
        "id": "XwWhs_f9-fTW"
      }
    },
    {
      "cell_type": "code",
      "source": [
        "# Gráfico de dispersão HT x DAP colorindo os dados quanto à posição fitossociológica\n",
        "scatter = plt.scatter(dados['HT'], dados['DAP'], c=dados['PS']) # gera o gráfico\n",
        "plt.title('Inventário ES: Altura total x diâmetro') # insere o título\n",
        "plt.xlabel('Altura total (m)') # insere o título no eixo x\n",
        "plt.ylabel('Diâmetro na altura do peito (cm)') # inser o título no eixo y\n",
        "plt.legend(handles=scatter.legend_elements()[0], labels=['Emergente', 'Extrato superior', 'Extrato inferior', 'Sem estrato definido'],\n",
        "           prop={'size': 9}) # insere e detalha a legenda"
      ],
      "metadata": {
        "id": "QXczTt6zwqnv"
      },
      "execution_count": null,
      "outputs": []
    },
    {
      "cell_type": "markdown",
      "source": [
        "No caso deste gráfico, é possível observar claramente a divisão entre as posições fitossociológicas. Árvores mais antigas, consideradas com emergentes das copas das demais, apresentam maiores diâmetros e alturas, seguidas da árvores do extrato superior e por fim as do extrato inferior da floresta."
      ],
      "metadata": {
        "id": "JzC1d-MqQRjK"
      }
    },
    {
      "cell_type": "code",
      "source": [
        "# Média do diâmetro à altura do peito, altura total e altura do fuste agrupando os dados pela posição fitossociológica\n",
        "dados.groupby('PS')[['DAP', 'HT', 'HF']].mean()"
      ],
      "metadata": {
        "id": "uV9yBvKafSVp"
      },
      "execution_count": null,
      "outputs": []
    },
    {
      "cell_type": "markdown",
      "source": [
        "As médias de DAP e HT nos diferentes níveis de PS confirmam a interpretação que foi feita para o gráfico. Neste caso, seria válido filtrar os dados retirando árvores sem extrato definido, já que os valores dentro deste nívem fogem ao padrão. Além disso, qualquer modelo deve levar em consideração esta variável, podendo se ajustar um modelo para cada extrato."
      ],
      "metadata": {
        "id": "rXpNDYKiQ1er"
      }
    },
    {
      "cell_type": "code",
      "source": [
        "# Quantidade e percentual de árvores em cada nível de sanidade da árvore\n",
        "num_per(dados['PS'])"
      ],
      "metadata": {
        "id": "Ow0ri1NC_tZX"
      },
      "execution_count": null,
      "outputs": []
    },
    {
      "cell_type": "markdown",
      "source": [
        "Verica-se que há apenas 4 árvores sem extrato definido no dateset, as quais convém remover."
      ],
      "metadata": {
        "id": "INKBylvp_yFH"
      }
    },
    {
      "cell_type": "code",
      "source": [
        "# Histograma para a altura total\n",
        "plt.hist(dados['HT'], bins=10, edgecolor='black', color='lightblue')\n",
        "plt.title('Distribuição de altura total')\n",
        "plt.ylabel('Frequência')\n",
        "plt.xlabel('Altura total (m)')"
      ],
      "metadata": {
        "id": "jTHVqszqxTsl"
      },
      "execution_count": null,
      "outputs": []
    },
    {
      "cell_type": "markdown",
      "source": [
        "Detalhando a distribuição das frequências, pelo histograma da altura total verifica-se que há uma considerável assimétria à direita, demonstrando uma concentração de árvores nas classes (aproximadamente) entre 5 a 10 metros de altura. Outra aplicação comum do histograma é estimar gráficamente se os dados seguem o modelo normal de distribuição. Neste caso, devido à assimetria, a variável não aparenta seguir a distribuição normal."
      ],
      "metadata": {
        "id": "1fPGPnulSM2G"
      }
    },
    {
      "cell_type": "code",
      "source": [
        "# Histograma para a altura do fuste\n",
        "plt.hist(dados['HF'], bins=10, edgecolor='black', color='lightblue')\n",
        "plt.title('Distribuição de altura do fuste')\n",
        "plt.ylabel('Frequência')\n",
        "plt.xlabel('Altura do fuste (m)')"
      ],
      "metadata": {
        "id": "bQ0SWJS8xftq"
      },
      "execution_count": null,
      "outputs": []
    },
    {
      "cell_type": "markdown",
      "source": [
        "Para altura do fuste observa-se uma assimentria à direita ainda mais pronunciada."
      ],
      "metadata": {
        "id": "PzULFx5oTp5u"
      }
    },
    {
      "cell_type": "code",
      "source": [
        "# Histograma para o diâmetro à altura do peito\n",
        "plt.hist(dados['DAP'], bins=10, edgecolor='black', color='lightblue')\n",
        "plt.title('Distribuição do DAP')\n",
        "plt.ylabel('Frequência')\n",
        "plt.xlabel('Diâmetro à altura do peito (cm)')"
      ],
      "metadata": {
        "id": "UU9GnVnvxwMD"
      },
      "execution_count": null,
      "outputs": []
    },
    {
      "cell_type": "markdown",
      "source": [
        "Para o DAP observa-se que as frequências se distribuem a partir dos 10 cm, considerando que está foi a variável e o valor de corte para considerar as árvores como adultas no IFN. Como se esta avaliando florestas jovens, verifica-se maior frequência nas classes mais baixas, descendendo exponensialmente até as classes com valores mais altos de DAP."
      ],
      "metadata": {
        "id": "dUH8gb0fXoZ_"
      }
    },
    {
      "cell_type": "code",
      "source": [
        "# Visualização conjunta dos gráficos já apresentados\n",
        "sns.pairplot(dados[['DAP', 'HT', 'HF']])"
      ],
      "metadata": {
        "id": "0tB5iGmVi5ZJ"
      },
      "execution_count": null,
      "outputs": []
    },
    {
      "cell_type": "markdown",
      "source": [
        "Para o caso desta análise é conveniente avaliar e interpretar os gráficos um a um da maneira como se fez até o momento. No gráfico acima observam-se todos os histogramas e gráficos de dispersão para as três variáveis avaliadas até o momento. Esta poderia ser uma alternativa de visualização para um artigo ou relatório onde é desejável apresentar os gráficos em menor espaço."
      ],
      "metadata": {
        "id": "tuDAcmoNaWHu"
      }
    },
    {
      "cell_type": "code",
      "source": [
        "# Visualização conjunta dos gráficos dividindo as observações de acordo com a posição fitossociológica\n",
        "g = sns.pairplot(data=dados[['DAP', 'HT', 'HF', 'PS']].astype({'PS': str}), hue='PS') # gera o gráfico\n",
        "g._legend.set_title('Posição fitossociológica:') # insere o título na legenda\n",
        "new_labels = ['Extrato superior', 'Extrato inferior', 'Emergente', 'Sem estrato definido'] # define os níveis do parâmetro PS\n",
        "for t, l in zip(g._legend.texts, new_labels): # posiciona corretamente os nomes na legenda\n",
        "    t.set_text(l)\n",
        "g._legend.set_bbox_to_anchor((1.1, 0.5)) # posiciona a legenda"
      ],
      "metadata": {
        "id": "3C0moqEvmMnK"
      },
      "execution_count": null,
      "outputs": []
    },
    {
      "cell_type": "markdown",
      "source": [
        "Assim como o gráfico anterior, este é apresentado apenas uma alternativa aos que foram previamente discutidos. Neste caso considerando as variáveis DAP, HT e HF em função da posição fitossociológica das árvores."
      ],
      "metadata": {
        "id": "s6mN3CHIbF58"
      }
    },
    {
      "cell_type": "code",
      "source": [
        "# Boxplot das variáveis contínuas\n",
        "fig, ax = plt.subplots(1,3, figsize=(16, 4))\n",
        "# subplot1: boxplot do DAP\n",
        "ax[0].boxplot(dados['DAP'])\n",
        "ax[0].set_title('Diâmetro à altura do peito (cm)')\n",
        "# subplot2: boxplot da HT\n",
        "ax[1].boxplot(dados['HT'])\n",
        "ax[1].set_title('Altura total (m)')\n",
        "# subplot3: boxplot da HF\n",
        "ax[2].boxplot(dados['HF'])\n",
        "ax[2].set_title('Altura do fuste (m)')"
      ],
      "metadata": {
        "id": "wj-50DazgG3l"
      },
      "execution_count": null,
      "outputs": []
    },
    {
      "cell_type": "markdown",
      "source": [
        "Os gráficos de caixa (boxplots) consistem em uma ótima maneira de visualizar os dados quanto a sua dispersão e tendência central. Pela visualização dos boxplots fica evidente a assimetria à direira das três variáveis (DAP, HT e HF), assim como a sua grande amplitude e variação. Também é possível visualizar graficamente que as três variáveis não apresentam distribuição normal. Por fim, a novidade que os boxplots trazem para a presente análise é a visualização de valores discrepantes (outliers). Observa-se que há outliers para as três variáveis, mas principalmente para o DAP. Uma avaliação mais detalhada e tratamento destes outliers é uma alternativa que deve ser considerada.   "
      ],
      "metadata": {
        "id": "oHh2_quajNxc"
      }
    },
    {
      "cell_type": "code",
      "source": [
        "# Correlação linear entre as variáveis\n",
        "\n",
        "# Lista das variáveis que se deseja testar\n",
        "vars_to_test = ['DAP', 'HT', 'HF']\n",
        "\n",
        "# Teste de normalidade para cada variável\n",
        "for var in vars_to_test:\n",
        "    stat, p = shapiro(dados[var])\n",
        "    print(f'{var}: Estatística de teste = {stat:.3f}, p-valor = {p:.3f}')"
      ],
      "metadata": {
        "id": "8PXX07TH0vGc"
      },
      "execution_count": null,
      "outputs": []
    },
    {
      "cell_type": "markdown",
      "source": [
        "O cálculo do coeficiente de correlação é uma maneira de atribuir um valor objetivo à relação entre as variáveis que foram avaliadas graficamente até o momento. Como não é correto utilizar o coeficiente para avaliar variáveis que não foram medidas em escala contínua, neste caso serão consideradas apenas DAP, HT e HF.\n",
        "\n",
        "Para o cálculo do coeficiente de Pearson existe o pressuposto de que as variáveis possuam distribuição normal, o que neste caso foi avaliado pelo teste de Shapiro-Wilk. \n",
        "\n",
        "Para as três variáveis rejeitou-se a suposição de que os dados apresentam distribuição normal. Portanto optou-se por calcular o coeficiente de correlação de Spearman."
      ],
      "metadata": {
        "id": "DNFGrO_CbevQ"
      }
    },
    {
      "cell_type": "code",
      "source": [
        "# Correlação linear pelo método de Spearman\n",
        "dados[['DAP', 'HT', 'HF']].corr(method = 'spearman')"
      ],
      "metadata": {
        "id": "hrGf6P1p0wDe"
      },
      "execution_count": null,
      "outputs": []
    },
    {
      "cell_type": "code",
      "source": [
        "# Visualização da matriz de correlação\n",
        "sns.heatmap(dados[['DAP', 'HT', 'HF']].corr(method = 'spearman'), annot=True, cmap='RdBu', vmin=-1, vmax=1)"
      ],
      "metadata": {
        "id": "hDqY1azy18UV"
      },
      "execution_count": null,
      "outputs": []
    },
    {
      "cell_type": "markdown",
      "source": [
        "Conforme sugerido pelos gráficos de dispersão, existe uma forte correlação entre altura total e altura do fuste, uma correlação de fraca a mediana entre altura total e diâmetro e uma correlção fraca entre altura do fuste e o diâmetro. \n",
        "\n",
        "A correlação média / fraca entre HT e DAP sugere que não seria possível obter um modelo bem ajustado para essas variáveis. Dessa forma, avaliar o processamento dos dados para reduzir a variação observada. "
      ],
      "metadata": {
        "id": "E4SkcrOBeGDd"
      }
    },
    {
      "cell_type": "code",
      "source": [
        "# Limpando os dados de acordo com as análises já realizadas.\n",
        "dados_filtro = dados[(dados['QF'] != '4') & (dados['SA'] != 4) & (dados['PS'] != 4)]\n",
        "round((dados_filtro['DAP'].count()/dados['DAP'].count()) * 100, 1) # percentual de árvores mantidas no dataset"
      ],
      "metadata": {
        "id": "aLy-N_AUmcZv",
        "colab": {
          "base_uri": "https://localhost:8080/"
        },
        "outputId": "fe210645-fd2a-4cb2-d052-17d63769f08f"
      },
      "execution_count": 10,
      "outputs": [
        {
          "output_type": "execute_result",
          "data": {
            "text/plain": [
              "93.3"
            ]
          },
          "metadata": {},
          "execution_count": 10
        }
      ]
    },
    {
      "cell_type": "markdown",
      "source": [
        "Foi aplicada uma limpeza dos dados removendo árvores com fuste danificado, mortas em pé e sem extrato definido. Observa-se que mais de 90% das árvores foram mantidas no dataset, sendo respeitada a representatividade e diversidade dos dados oriundos de florestas naturais."
      ],
      "metadata": {
        "id": "wPSLJQif87NP"
      }
    },
    {
      "cell_type": "code",
      "source": [
        "# Calcula o CV para os dados de interesse após o novo filtro\n",
        "print('CV DAP =', end=' ') \n",
        "coef_var(dados_filtro['DAP']);\n",
        "print('CV HT =', end=' ') \n",
        "coef_var(dados_filtro['HT']);\n",
        "print('CV HF =', end=' ') \n",
        "coef_var(dados_filtro['HF'])"
      ],
      "metadata": {
        "id": "Jt_fDy_f-r5W"
      },
      "execution_count": null,
      "outputs": []
    },
    {
      "cell_type": "markdown",
      "source": [
        "O coeficiente de variação apresentou uma leve redução, demonstrando que os dados ainda possuem alta variabilidade e que mesmo após processamento já realizado pode ser difícil chegar a um bom modelo."
      ],
      "metadata": {
        "id": "lKCo5Gyl-8mE"
      }
    },
    {
      "cell_type": "code",
      "source": [
        "# Boxplot das variáveis contínuas após o filtro\n",
        "fig, ax = plt.subplots(1,3, figsize=(16, 5))\n",
        "# subplot1: boxplot do DAP\n",
        "ax[0].boxplot(dados_filtro['DAP'])\n",
        "ax[0].set_title('Diâmetro à altura do peito (cm)')\n",
        "# subplot2: boxplot da HT\n",
        "ax[1].boxplot(dados_filtro['HT'])\n",
        "ax[1].set_title('Altura total (m)')\n",
        "# subplot3: boxplot da HF\n",
        "ax[2].boxplot(dados_filtro['HF'])\n",
        "ax[2].set_title('Altura do fuste (m)')"
      ],
      "metadata": {
        "id": "a1mOaoMF_a3D"
      },
      "execution_count": null,
      "outputs": []
    },
    {
      "cell_type": "markdown",
      "source": [
        "Pelos boxplots verifica-se que ainda existem muitos valores discrepantes, principalmente para o diâmetro. Portanto, convém aprofundar está análise."
      ],
      "metadata": {
        "id": "tlQT4wt-_v-c"
      }
    },
    {
      "cell_type": "code",
      "source": [
        "# Identificação de valores acima do limite superior do boxplot para DAP.\n",
        "limite=np.percentile(dados_filtro['DAP'], 75, method='midpoint')+1.5*(np.percentile(dados_filtro['DAP'], 75, method='midpoint')-\n",
        "                                                                      np.percentile(dados_filtro['DAP'], 25, method='midpoint'))\n",
        "posicoes=dados_filtro.loc[dados_filtro['DAP']>=limite]['DAP'].count()\n",
        "print(\"Limite superior:\", round(limite, 1))\n",
        "print(\"Quantidade de valores acima do limite superior:\", posicoes, \"ou em percentual\", round((posicoes/dados_filtro['DAP'].count())*100, 1),'%')\n"
      ],
      "metadata": {
        "id": "Y4q9dy7ABQ79"
      },
      "execution_count": null,
      "outputs": []
    },
    {
      "cell_type": "markdown",
      "source": [
        "Usando o limite superior do boxplot como método para identificar outliers, observa-se que existem 72 valores discrepantes para o DAP (6,2% do total de árvores). Considerando a diversidade de florestas naturais, qualquer limpeza arbitrária dos dados pode ser considerada tecnicamente questionável. Como o percentual de árvores a serem retiradas do dataset é relativamente baixo, optou-se por aplicar mais esta limpeza. A substituição de valores discrepantes pela média ou mediana dos dados de DAP seria uma alternativa para a remoção caso o número de outliers fosse mais alto."
      ],
      "metadata": {
        "id": "fp_KxDBEEVEO"
      }
    },
    {
      "cell_type": "code",
      "source": [
        "# Identificação de valores acima do limite superior do boxplot para DAP.\n",
        "limite=np.percentile(dados_filtro['HT'], 75, method='midpoint')+1.5*(np.percentile(dados_filtro['HT'], 75, method='midpoint')-\n",
        "                                                                     np.percentile(dados_filtro['HT'], 25, method='midpoint'))\n",
        "posicoes=dados_filtro.loc[dados_filtro['HT']>=limite]['HT'].count()\n",
        "print(\"Limite superior:\", round(limite, 1))\n",
        "print(\"Quantidade de valores acima do limite superior:\", posicoes, \"ou em percentual\", round((posicoes/dados_filtro['HT'].count())*100, 1),'%')"
      ],
      "metadata": {
        "id": "JN_30ZiYKbYJ"
      },
      "execution_count": null,
      "outputs": []
    },
    {
      "cell_type": "code",
      "source": [
        "# Identificação de valores acima do limite superior do boxplot para DAP.\n",
        "limite=np.percentile(dados_filtro['HF'], 75, method='midpoint')+1.5*(np.percentile(dados_filtro['HF'], 75, method='midpoint')-\n",
        "                                                                     np.percentile(dados_filtro['HF'], 25, method='midpoint'))\n",
        "posicoes=dados_filtro.loc[dados_filtro['HF']>=limite]['HF'].count()\n",
        "print(\"Limite superior:\", round(limite, 1))\n",
        "print(\"Quantidade de valores acima do limite superior:\", posicoes, \"ou em percentual\", round((posicoes/dados_filtro['HF'].count())*100, 1),'%')"
      ],
      "metadata": {
        "id": "zJpdmoCoKsy4"
      },
      "execution_count": null,
      "outputs": []
    },
    {
      "cell_type": "markdown",
      "source": [
        "Há um percentual ainda menor de valores discrepantes para HT e HF. Assim, a limpeza também irá considerar os valores discrepantes destas variáveis. Antes, convém visualizar um último gráfico. "
      ],
      "metadata": {
        "id": "M2iCvFcxK_Ct"
      }
    },
    {
      "cell_type": "code",
      "source": [
        "# Gráfico de dispersão HT x DAP colorindo os dados filtrados quanto à posição fitossociológica\n",
        "scatter = plt.scatter(dados_filtro['HT'], dados_filtro['DAP'], c=dados_filtro['PS']) # gera o gráfico\n",
        "plt.title('Inventário ES: Altura total x diâmetro') # insere o título\n",
        "plt.xlabel('Altura total (m)') # insere o título no eixo x\n",
        "plt.ylabel('Diâmetro na altura do peito (cm)') # inser o título no eixo y\n",
        "plt.legend(handles=scatter.legend_elements()[0], labels=['Emergente', 'Extrato superior', 'Extrato inferior', 'Sem estrato definido'],\n",
        "           prop={'size': 9}) # insere e detalha a legenda"
      ],
      "metadata": {
        "id": "Ai7mLSnTHH3Y"
      },
      "execution_count": null,
      "outputs": []
    },
    {
      "cell_type": "markdown",
      "source": [
        "A figura demosntra que os valores de DAP acima do limite superior se encontram nos três estratos, mas principalmente no superior e emergente. Este resultado dá suporte à limpeza dos outliers, demonstrando que não seriam retiradas apenas árvores de um grupo específico, o que poderia prejudicar a representatividade dos dados. \n",
        "\n",
        "Já para a altura, seriam retiradas apenas árvores do extrato emergente. mas neste caso serão retiradas um número menor de árvores."
      ],
      "metadata": {
        "id": "qFMM35plHiqJ"
      }
    },
    {
      "cell_type": "code",
      "source": [
        "# Limpando os dados uma segunda vez.\n",
        "dados_filtro2 = dados_filtro[(dados_filtro['DAP'] <= 26.1) & (dados_filtro['HT'] <= 19.5) & (dados_filtro['HF'] <= 14.8)]\n",
        "round((dados_filtro2['DAP'].count()/dados['DAP'].count()) * 100, 1) # percentual de árvores mantidas no dataset"
      ],
      "metadata": {
        "id": "ZNj1TUEWIgE8",
        "colab": {
          "base_uri": "https://localhost:8080/"
        },
        "outputId": "a5b7a364-ba75-4488-a84b-7d2a140806eb"
      },
      "execution_count": 11,
      "outputs": [
        {
          "output_type": "execute_result",
          "data": {
            "text/plain": [
              "86.8"
            ]
          },
          "metadata": {},
          "execution_count": 11
        }
      ]
    },
    {
      "cell_type": "markdown",
      "source": [
        "Após a segunda limpeza aplicada nos dados de florestas secundárias jovens, verifica-se que 86,8% das árvores foram mantidas no dataset. Esta quantidade ainda pode ser considerada representativa, mas não é aconselhável remover mais dados."
      ],
      "metadata": {
        "id": "aSe3X6yZJTRt"
      }
    },
    {
      "cell_type": "code",
      "source": [
        "# Boxplot das variáveis contínuas após o filtro\n",
        "fig, ax = plt.subplots(1,3, figsize=(16, 4))\n",
        "# subplot1: boxplot do DAP\n",
        "ax[0].boxplot(dados_filtro2['DAP'])\n",
        "ax[0].set_title('Diâmetro à altura do peito (cm)')\n",
        "# subplot2: boxplot da HT\n",
        "ax[1].boxplot(dados_filtro2['HT'])\n",
        "ax[1].set_title('Altura total (m)')\n",
        "# subplot3: boxplot da HF\n",
        "ax[2].boxplot(dados_filtro2['HF'])\n",
        "ax[2].set_title('Altura do fuste (m)')"
      ],
      "metadata": {
        "id": "W-IV5AFnKCjp"
      },
      "execution_count": null,
      "outputs": []
    },
    {
      "cell_type": "markdown",
      "source": [
        "Observando os boxplot constata-se que não há mais valores discrepantes para altura total e altura do fuste. Para o diâmetro ainda existem valores discrepantes, mas a amplitude dos dados diminuiu consideravelmente."
      ],
      "metadata": {
        "id": "X_MvZKsDMn1Q"
      }
    },
    {
      "cell_type": "code",
      "source": [
        "# Calcula o CV para os dados de interesse após o novo filtro\n",
        "print('CV DAP =', end=' ') \n",
        "coef_var(dados_filtro2['DAP']);\n",
        "print('CV HT =', end=' ') \n",
        "coef_var(dados_filtro2['HT']);\n",
        "print('CV HF =', end=' ') \n",
        "coef_var(dados_filtro2['HF'])"
      ],
      "metadata": {
        "id": "DVfC2yyTNHx0"
      },
      "execution_count": null,
      "outputs": []
    },
    {
      "cell_type": "markdown",
      "source": [
        "Para o diâmetro o coeficiente de variação após a segunda limpeza ficou mediano, enquanto para altura total e do fuste apesar de ter diminuido ele permaneceu alto."
      ],
      "metadata": {
        "id": "LHGi6ue-N_3L"
      }
    },
    {
      "cell_type": "code",
      "source": [
        "# Gráfico de dispersão HT x DAP colorindo os dados filtrados quanto à posição fitossociológica\n",
        "scatter = plt.scatter(dados_filtro2['HT'], dados_filtro2['DAP'], c=dados_filtro2['PS']) # gera o gráfico\n",
        "plt.title('Inventário ES: Altura total x diâmetro') # insere o título\n",
        "plt.xlabel('Altura total (m)') # insere o título no eixo x\n",
        "plt.ylabel('Diâmetro na altura do peito (cm)') # inser o título no eixo y\n",
        "plt.legend(handles=scatter.legend_elements()[0], labels=['Emergente', 'Extrato superior', 'Extrato inferior', 'Sem estrato definido'],\n",
        "           prop={'size': 9}) # insere e detalha a legenda"
      ],
      "metadata": {
        "id": "TsU-2b2mOlJ1"
      },
      "execution_count": null,
      "outputs": []
    },
    {
      "cell_type": "markdown",
      "source": [
        "Verifica-se no gráfico de dispersão que após a segunda limpeza a correlação linear positiva entre o DAP e HT se tornou mais clara, apesar de ainda existirem muitos pontos afastados da reta de regressão imaginária."
      ],
      "metadata": {
        "id": "xBru8-UxO44s"
      }
    },
    {
      "cell_type": "code",
      "source": [
        "# Gráfico de dispersão entre HT e DAP separando as observações para cada posição fitossociológica.\n",
        "fig, axs = plt.subplots(1, 3, figsize=(15, 4), sharex=True, sharey=True)\n",
        "# subplot1: gráfico para PS = 3\n",
        "axs[0].scatter(dados_filtro2.loc[dados_filtro2['PS'] == 3, 'HT'], dados_filtro2.loc[dados_filtro2['PS'] == 3, 'DAP'], c='#FDE725FF') # gera o gráfico\n",
        "axs[0].set_title('Extrato inferior') # título do subgráfico\n",
        "axs[0].set_ylabel('Diâmetro na altura do peito (cm)', labelpad=10) # adiciona o título do eixo y\n",
        "# subplot2: gráfico para PS = 2\n",
        "axs[1].scatter(dados_filtro2.loc[dados_filtro2['PS'] == 2, 'HT'], dados_filtro2.loc[dados_filtro2['PS'] == 2, 'DAP'], c='#26828EFF') # gera o gráfico\n",
        "axs[1].set_title('Extrato superior') # título do subgráfico\n",
        "axs[1].set_xlabel('Altura total (m)', labelpad=10) # adiciona o título do eixo x\n",
        "# subplot3: gráfico para PS = 1\n",
        "axs[2].scatter(dados_filtro2.loc[dados_filtro2['PS'] == 1, 'HT'], dados_filtro2.loc[dados_filtro2['PS'] == 1, 'DAP'], c='#440154FF') # gera o gráfico\n",
        "axs[2].set_title('Emergente') # título do subgráfico\n",
        "# Adiciona um título geral para o gráfico\n",
        "fig.suptitle('Inventário ES: Altura total x diâmetro', y=1.05)"
      ],
      "metadata": {
        "id": "3Hh1vS58VkOP"
      },
      "execution_count": null,
      "outputs": []
    },
    {
      "cell_type": "markdown",
      "source": [
        "Em detalhe, observamos que a correlação é mais evidente para árvores emergentes e menos evidente para árvores do extrato inferior. Este resultado reforça a estratégia de criar modelos diferentes para cada posição fitossosiológica ou, por exemplo, utilizar regressão logística para inserir variáveis categóricas no modelo."
      ],
      "metadata": {
        "id": "o8sS60j7X_Rc"
      }
    },
    {
      "cell_type": "code",
      "source": [
        "# Visualização da matriz de correlação para os dados filtrados\n",
        "sns.heatmap(dados_filtro2[['DAP', 'HT', 'HF']].corr(method = 'spearman'), annot=True, cmap='RdBu', vmin=-1, vmax=1)"
      ],
      "metadata": {
        "id": "j2TfNTNdZoGq"
      },
      "execution_count": null,
      "outputs": []
    },
    {
      "cell_type": "markdown",
      "source": [
        "Apesar das filtragens o coeficiente de correlação entre o diâmetro e a altura total não aumentou, permanecendo a correlação de fraca a mediana."
      ],
      "metadata": {
        "id": "EZUjGXEWZ_pr"
      }
    },
    {
      "cell_type": "code",
      "source": [
        "# Gráfico de dispersão entre HT e DAP separando as observações para cada posição fitossociológica.\n",
        "fig, axs = plt.subplots(1, 3, figsize=(16, 4), sharex=True, sharey=True)\n",
        "\n",
        "# subplot1: gráfico para PS = 3\n",
        "sns.heatmap(dados_filtro2.loc[dados_filtro2['PS'] == 3, ['DAP', 'HT', 'HF']].corr(method='spearman'), annot=True, cmap='RdBu', vmin=-1, vmax=1, ax=axs[0])\n",
        "axs[0].set_title('Extrato inferior') # título do subgráfico\n",
        "\n",
        "# subplot2: gráfico para PS = 2\n",
        "sns.heatmap(dados_filtro2.loc[dados_filtro2['PS'] == 2, ['DAP', 'HT', 'HF']].corr(method='spearman'), annot=True, cmap='RdBu', vmin=-1, vmax=1, ax=axs[1])\n",
        "axs[1].set_title('Extrato superior') # título do subgráfico\n",
        "\n",
        "# subplot3: gráfico para PS = 1\n",
        "sns.heatmap(dados_filtro2.loc[dados_filtro2['PS'] == 1, ['DAP', 'HT', 'HF']].corr(method='spearman'), annot=True, cmap='RdBu', vmin=-1, vmax=1, ax=axs[2])\n",
        "axs[2].set_title('Emergente') # título do subgráfico\n",
        "\n",
        "# Adiciona um título geral para o gráfico\n",
        "fig.suptitle('Correlação entre as variáveis para cada posição fitossociológica', y=1.07)\n"
      ],
      "metadata": {
        "id": "bVw_9LcPcSys"
      },
      "execution_count": null,
      "outputs": []
    },
    {
      "cell_type": "markdown",
      "source": [
        "Quando se avalia a correlação linear entre HT e DAP para cada posição fitossociológica verifica-se que ela é fraca para os extratos inferior e superior e moderada para o emergente. Já a relação entre a HT e a HF é de moderada a forte para o extrato inferior e superior e forte para árvores emergentes."
      ],
      "metadata": {
        "id": "H53pULEDcnnj"
      }
    },
    {
      "cell_type": "code",
      "source": [
        "# Dividindo o dataset em treino e teste\n",
        "X_train, X_test, y_train, y_test = train_test_split(\n",
        "    dados_filtro2[['DAP', 'HF']], dados_filtro2['HT'], test_size=0.30, random_state=0)"
      ],
      "metadata": {
        "id": "oZKriaAyx3i1"
      },
      "execution_count": 48,
      "outputs": []
    },
    {
      "cell_type": "markdown",
      "source": [
        "Encaminhando a conclusão do pré-processamento dos dados foi realizada a divisão do conjunto de dados em treino e teste. Decidiu-se por dividir o conjunto em 70% dos dados para treino e 30% para teste."
      ],
      "metadata": {
        "id": "Wx-wRdAT5jpu"
      }
    },
    {
      "cell_type": "code",
      "source": [
        "# Normalizando os dados de treino \n",
        "scaler = MinMaxScaler()\n",
        "X_train_norm = scaler.fit_transform(X_train)\n",
        "\n",
        "# Normalizando os dados de teste utilizando os valores máximos e mínimos dos dados de treino\n",
        "X_test_norm = scaler.transform(X_test)\n",
        "\n",
        "# Convertendo os dados normalizados de array para um dataframe\n",
        "X_train_df = pd.DataFrame(X_train_norm , columns=['DAP_t', 'HF_t'])\n",
        "X_test_df = pd.DataFrame(X_test_norm , columns=['DAP_t', 'HF_t'])\n",
        "\n",
        "# Imprimindo as primeiras linhas para conferir\n",
        "print(X_train_df.head())\n",
        "print(X_test_df.head())"
      ],
      "metadata": {
        "id": "0cT7L_qrod5B"
      },
      "execution_count": null,
      "outputs": []
    },
    {
      "cell_type": "markdown",
      "source": [
        "Na sequência foi realizada a normalização dos dados de treino e teste das variáveis explicativas. Optou-se pela normalização em detrimento da padronização, porque os dados não possuem distribuição normal. Foi feita cópia dos dados antes da normalização para que na etapa de modelagem possa ser testada a utilização dos dados com e sem transformação.\n",
        "\n",
        "Os dados foram convertidos em data frame para gerar a visualização abaixo."
      ],
      "metadata": {
        "id": "liEOelvU6V7o"
      }
    },
    {
      "cell_type": "code",
      "source": [
        "# Boxplot das variáveis contínuas após a normalização\n",
        "fig, ax = plt.subplots(2,2, figsize=(16, 7))\n",
        "# subplot1: boxplot do DAP transformado no set de treino\n",
        "ax[0,0].boxplot(X_train_df['DAP_t'])\n",
        "ax[0,0].set_title('Diâmetro à altura do peito normalizado no set de treino')\n",
        "# subplot2: boxplot da HF transformada no set de treino\n",
        "ax[0,1].boxplot(X_train_df['HF_t'])\n",
        "ax[0,1].set_title('Altura do fuste normalizada no set de treino')\n",
        "# subplot3: boxplot do DAP transformado no set de teste\n",
        "ax[1,0].boxplot(X_test_df['DAP_t'])\n",
        "ax[1,0].set_title('Diâmetro à altura do peito normalizado no set de teste')\n",
        "# subplot2: boxplot da HF transformada no set de teste\n",
        "ax[1,1].boxplot(X_test_df['HF_t'])\n",
        "ax[1,1].set_title('Altura do fuste normalizada no set de teste')"
      ],
      "metadata": {
        "id": "pAcrFi8KptMv"
      },
      "execution_count": null,
      "outputs": []
    },
    {
      "cell_type": "markdown",
      "source": [
        "Observa-se que a normalização deixou os dados de DAP e HF na mesma escala mantendo a sua variabilidade. Comparando os conjuntos de treino e teste, verifica-se que a mediana e a dispersão dos valores de ambas variáveis (DAP e HF) são diferentes entre os conjuntos, mas estão bem próximos."
      ],
      "metadata": {
        "id": "08LWP0kkvEqQ"
      }
    },
    {
      "cell_type": "markdown",
      "source": [
        "**CONCLUSÃO**\n",
        "\n",
        "Os resultados demonstram que há um maior potencial de estimar a altura total a partir da altura do fuste. Apesar de a altura do fuste ser mais fácil de mensurar que a total, o ideal era que a estimativa da altura total fosse feita a partir do diâmetro à altura do peito, que é uma variável ainda mais fácil de ser mensurada. Porém, a associação entre essas variáveis talvez não seja forte o suficiente para gerar um bom modelo.\n",
        "\n",
        "A transformação...\n",
        "A amostragem com validação cruzada estratificada dos dados também seria uma alternativa de pré-processamento que pode dar resultados para os dados em questão. Na etapa de modelagem outras técnicas, por exemplo regressão múltipla ou logística, podem ser consideradas para gerar um modelo que possa estimar a altura total com certa precisão. \n",
        "\n",
        "A alta diversidade existente em florestas naturais reflete em uma grande variação dos dados e pode ser considerada uma barreira para o ajuste de modelos com alto nível de precisão. Na prática, para convencer um determinado órgão ambiental a aceitar um inventário feito totalmente com a altura total estimada a partir de outra (s) variável (is), será necessário demonstrar que o modelo possui alto grau de precisão. Portanto, cabe avaliar se vale a pena manter o projeto atual e proceder com outras técnicas de processamento de dados para depois proceder com a modelagem."
      ],
      "metadata": {
        "id": "Cx3KaBCvocA6"
      }
    }
  ]
}